{
 "cells": [
  {
   "cell_type": "code",
   "execution_count": 354,
   "id": "923cccb1",
   "metadata": {},
   "outputs": [],
   "source": [
    "# packages\n",
    "import pandas as pd\n",
    "import numpy as np\n",
    "from sklearn.cluster import KMeans\n",
    "from sklearn.preprocessing import StandardScaler\n",
    "from sklearn.cluster import AgglomerativeClustering\n",
    "import scipy.cluster.hierarchy as shc\n",
    "import matplotlib.pyplot as plt\n",
    "import os\n",
    "import shutil\n",
    "from sklearn.decomposition import PCA\n",
    "import matplotlib.pyplot as plt\n",
    "import string  \n",
    "from sklearn.model_selection import train_test_split\n",
    "from sklearn.linear_model import LinearRegression\n",
    "from sklearn.model_selection import train_test_split\n",
    "from sklearn.metrics import mean_squared_error,r2_score\n",
    "from tqdm import tnrange, tqdm_notebook\n",
    "from itertools import combinations\n",
    "import seaborn as sns\n",
    "from sklearn.linear_model import Ridge,Lasso\n",
    "from sklearn.model_selection import train_test_split,GridSearchCV\n",
    "from sklearn.metrics import mean_squared_error,r2_score\n",
    "from sklearn.preprocessing import StandardScaler\n",
    "from sklearn.linear_model import LinearRegression\n",
    "from sklearn.preprocessing import StandardScaler\n",
    "from sklearn.decomposition import PCA\n",
    "from sklearn.model_selection import cross_val_score\n",
    "from sklearn.cross_decomposition import PLSRegression\n",
    "from sklearn import metrics\n",
    "import matplotlib.pyplot as plt\n",
    "import seaborn as sns\n",
    "from sklearn.metrics import mean_squared_error\n",
    "import math"
   ]
  },
  {
   "cell_type": "code",
   "execution_count": 355,
   "id": "ef09ddee",
   "metadata": {},
   "outputs": [],
   "source": [
    "# set directories\n",
    "inputpath=r'C:/Users/buca4591/Desktop/GIT/Applied_Empirical/task4/raw/data'\n",
    "outputpath=r'C:/Users/buca4591/Desktop/GIT/Applied_Empirical/task4/analysis/input'"
   ]
  },
  {
   "cell_type": "code",
   "execution_count": 356,
   "id": "2b80f794",
   "metadata": {},
   "outputs": [
    {
     "name": "stderr",
     "output_type": "stream",
     "text": [
      "C:\\Users\\buca4591\\AppData\\Local\\Temp\\ipykernel_5108\\1614986813.py:2: FutureWarning: The error_bad_lines argument has been deprecated and will be removed in a future version. Use on_bad_lines in the future.\n",
      "\n",
      "\n",
      "  data1 = pd.read_csv(inputpath+'/growthdata92_02.csv',sep=\",\",\n",
      "C:\\Users\\buca4591\\AppData\\Local\\Temp\\ipykernel_5108\\1614986813.py:6: FutureWarning: The error_bad_lines argument has been deprecated and will be removed in a future version. Use on_bad_lines in the future.\n",
      "\n",
      "\n",
      "  data2 = pd.read_csv(inputpath+'/growthdata02_11.csv',sep=\",\",\n"
     ]
    }
   ],
   "source": [
    "# upload the raw dataset \n",
    "data1 = pd.read_csv(inputpath+'/growthdata92_02.csv',sep=\",\",\n",
    "                  lineterminator='\\r',\n",
    "                  error_bad_lines=False)\n",
    "\n",
    "data2 = pd.read_csv(inputpath+'/growthdata02_11.csv',sep=\",\",\n",
    "                  lineterminator='\\r',\n",
    "                  error_bad_lines=False)"
   ]
  },
  {
   "cell_type": "code",
   "execution_count": 357,
   "id": "c9cb0c09",
   "metadata": {},
   "outputs": [],
   "source": [
    "# drop NaNs\n",
    "data1.dropna(inplace = True)\n",
    "data2.dropna(inplace = True)\n"
   ]
  },
  {
   "cell_type": "code",
   "execution_count": 358,
   "id": "1d7c2fbd",
   "metadata": {},
   "outputs": [],
   "source": [
    "# drop unnecessary variables\n",
    "data1 = data1.drop([\"iso3\", \"Unnamed: 0\"], axis=1)\n",
    "data2 = data2.drop([\"iso3\", \"Unnamed: 0\"], axis=1)"
   ]
  },
  {
   "cell_type": "code",
   "execution_count": 359,
   "id": "f49e71a9",
   "metadata": {},
   "outputs": [],
   "source": [
    "# split train and test datasets \n",
    "data1_train, data1_test = train_test_split(data1, test_size=0.2, random_state=2409)\n",
    "data2_train, data2_test = train_test_split(data2, test_size=0.2, random_state=2409)"
   ]
  },
  {
   "cell_type": "code",
   "execution_count": 360,
   "id": "5708e54f",
   "metadata": {},
   "outputs": [],
   "source": [
    "# specify in\\dependent variables\n",
    "y = data1_train['growth']\n",
    "X = data1_train.drop([\"growth\"], axis=1)\n",
    "\n",
    "X_test = data1_test.drop('growth',axis = 1)\n",
    "y_test = data1_test['growth']\n"
   ]
  },
  {
   "cell_type": "raw",
   "id": "ef7d84db",
   "metadata": {},
   "source": [
    "subset selection "
   ]
  },
  {
   "cell_type": "code",
   "execution_count": null,
   "id": "006d4c79",
   "metadata": {},
   "outputs": [],
   "source": []
  },
  {
   "cell_type": "code",
   "execution_count": null,
   "id": "5ed407f7",
   "metadata": {},
   "outputs": [],
   "source": []
  },
  {
   "cell_type": "code",
   "execution_count": null,
   "id": "d9003ab6",
   "metadata": {},
   "outputs": [],
   "source": []
  },
  {
   "cell_type": "code",
   "execution_count": null,
   "id": "3539bae8",
   "metadata": {},
   "outputs": [],
   "source": []
  },
  {
   "cell_type": "code",
   "execution_count": null,
   "id": "c224bd57",
   "metadata": {},
   "outputs": [],
   "source": []
  },
  {
   "cell_type": "code",
   "execution_count": 361,
   "id": "e4e4070a",
   "metadata": {
    "scrolled": true
   },
   "outputs": [],
   "source": [
    "# cross validation for this model \n"
   ]
  },
  {
   "cell_type": "raw",
   "id": "0af25c85",
   "metadata": {},
   "source": [
    "lasso "
   ]
  },
  {
   "cell_type": "code",
   "execution_count": 362,
   "id": "b6d28455",
   "metadata": {},
   "outputs": [
    {
     "name": "stderr",
     "output_type": "stream",
     "text": [
      "C:\\Users\\buca4591\\AppData\\Local\\anaconda3\\Lib\\site-packages\\sklearn\\base.py:1151: UserWarning: With alpha=0, this algorithm does not converge well. You are advised to use the LinearRegression estimator\n",
      "  return fit_method(estimator, *args, **kwargs)\n",
      "C:\\Users\\buca4591\\AppData\\Local\\anaconda3\\Lib\\site-packages\\sklearn\\linear_model\\_coordinate_descent.py:628: UserWarning: Coordinate descent with no regularization may lead to unexpected results and is discouraged.\n",
      "  model = cd_fast.enet_coordinate_descent(\n",
      "C:\\Users\\buca4591\\AppData\\Local\\anaconda3\\Lib\\site-packages\\sklearn\\linear_model\\_coordinate_descent.py:628: ConvergenceWarning: Objective did not converge. You might want to increase the number of iterations, check the scale of the features or consider increasing regularisation. Duality gap: 1.244e-02, tolerance: 7.624e-06 Linear regression models with null weight for the l1 regularization term are more efficiently fitted using one of the solvers implemented in sklearn.linear_model.Ridge/RidgeCV instead.\n",
      "  model = cd_fast.enet_coordinate_descent(\n"
     ]
    },
    {
     "data": {
      "text/html": [
       "<div>\n",
       "<style scoped>\n",
       "    .dataframe tbody tr th:only-of-type {\n",
       "        vertical-align: middle;\n",
       "    }\n",
       "\n",
       "    .dataframe tbody tr th {\n",
       "        vertical-align: top;\n",
       "    }\n",
       "\n",
       "    .dataframe thead th {\n",
       "        text-align: right;\n",
       "    }\n",
       "</style>\n",
       "<table border=\"1\" class=\"dataframe\">\n",
       "  <thead>\n",
       "    <tr style=\"text-align: right;\">\n",
       "      <th></th>\n",
       "      <th>0</th>\n",
       "      <th>1</th>\n",
       "      <th>2</th>\n",
       "      <th>3</th>\n",
       "      <th>4</th>\n",
       "      <th>5</th>\n",
       "      <th>6</th>\n",
       "      <th>7</th>\n",
       "      <th>8</th>\n",
       "      <th>9</th>\n",
       "      <th>...</th>\n",
       "      <th>17</th>\n",
       "      <th>18</th>\n",
       "      <th>19</th>\n",
       "      <th>20</th>\n",
       "      <th>21</th>\n",
       "      <th>22</th>\n",
       "      <th>23</th>\n",
       "      <th>24</th>\n",
       "      <th>25</th>\n",
       "      <th>26</th>\n",
       "    </tr>\n",
       "  </thead>\n",
       "  <tbody>\n",
       "    <tr>\n",
       "      <th>0.000000</th>\n",
       "      <td>-0.023883</td>\n",
       "      <td>0.005193</td>\n",
       "      <td>-0.002836</td>\n",
       "      <td>0.005233</td>\n",
       "      <td>0.000402</td>\n",
       "      <td>0.001689</td>\n",
       "      <td>-0.017966</td>\n",
       "      <td>-0.001896</td>\n",
       "      <td>-0.004843</td>\n",
       "      <td>-0.003191</td>\n",
       "      <td>...</td>\n",
       "      <td>-0.003806</td>\n",
       "      <td>0.001023</td>\n",
       "      <td>0.002934</td>\n",
       "      <td>-0.002547</td>\n",
       "      <td>-0.006512</td>\n",
       "      <td>0.002509</td>\n",
       "      <td>0.017451</td>\n",
       "      <td>0.001151</td>\n",
       "      <td>0.005875</td>\n",
       "      <td>-0.00631</td>\n",
       "    </tr>\n",
       "    <tr>\n",
       "      <th>0.000833</th>\n",
       "      <td>-0.008448</td>\n",
       "      <td>0.000920</td>\n",
       "      <td>-0.000920</td>\n",
       "      <td>0.004920</td>\n",
       "      <td>-0.001453</td>\n",
       "      <td>-0.000000</td>\n",
       "      <td>-0.016704</td>\n",
       "      <td>-0.000376</td>\n",
       "      <td>-0.004622</td>\n",
       "      <td>-0.000000</td>\n",
       "      <td>...</td>\n",
       "      <td>-0.000000</td>\n",
       "      <td>0.000000</td>\n",
       "      <td>0.000000</td>\n",
       "      <td>-0.002752</td>\n",
       "      <td>0.000000</td>\n",
       "      <td>0.001389</td>\n",
       "      <td>0.005113</td>\n",
       "      <td>0.000000</td>\n",
       "      <td>0.002245</td>\n",
       "      <td>0.00000</td>\n",
       "    </tr>\n",
       "    <tr>\n",
       "      <th>0.001667</th>\n",
       "      <td>-0.000000</td>\n",
       "      <td>0.000000</td>\n",
       "      <td>-0.000799</td>\n",
       "      <td>0.003724</td>\n",
       "      <td>-0.002159</td>\n",
       "      <td>-0.000000</td>\n",
       "      <td>-0.016031</td>\n",
       "      <td>-0.000000</td>\n",
       "      <td>-0.003766</td>\n",
       "      <td>-0.000000</td>\n",
       "      <td>...</td>\n",
       "      <td>0.000000</td>\n",
       "      <td>0.000000</td>\n",
       "      <td>0.000000</td>\n",
       "      <td>-0.003337</td>\n",
       "      <td>0.000000</td>\n",
       "      <td>0.001048</td>\n",
       "      <td>0.000177</td>\n",
       "      <td>0.000000</td>\n",
       "      <td>0.003078</td>\n",
       "      <td>0.00000</td>\n",
       "    </tr>\n",
       "    <tr>\n",
       "      <th>0.002500</th>\n",
       "      <td>-0.000000</td>\n",
       "      <td>0.000000</td>\n",
       "      <td>-0.000000</td>\n",
       "      <td>0.002727</td>\n",
       "      <td>-0.000922</td>\n",
       "      <td>-0.000000</td>\n",
       "      <td>-0.014922</td>\n",
       "      <td>-0.000000</td>\n",
       "      <td>-0.003063</td>\n",
       "      <td>-0.000000</td>\n",
       "      <td>...</td>\n",
       "      <td>0.000000</td>\n",
       "      <td>0.000000</td>\n",
       "      <td>0.000000</td>\n",
       "      <td>-0.002780</td>\n",
       "      <td>0.000000</td>\n",
       "      <td>0.000115</td>\n",
       "      <td>0.000000</td>\n",
       "      <td>0.000000</td>\n",
       "      <td>0.003865</td>\n",
       "      <td>0.00000</td>\n",
       "    </tr>\n",
       "    <tr>\n",
       "      <th>0.003333</th>\n",
       "      <td>-0.000000</td>\n",
       "      <td>0.000000</td>\n",
       "      <td>-0.000000</td>\n",
       "      <td>0.001588</td>\n",
       "      <td>-0.000000</td>\n",
       "      <td>-0.000000</td>\n",
       "      <td>-0.013738</td>\n",
       "      <td>-0.000000</td>\n",
       "      <td>-0.002358</td>\n",
       "      <td>-0.000000</td>\n",
       "      <td>...</td>\n",
       "      <td>0.000000</td>\n",
       "      <td>0.000000</td>\n",
       "      <td>0.000000</td>\n",
       "      <td>-0.002393</td>\n",
       "      <td>0.000000</td>\n",
       "      <td>0.000000</td>\n",
       "      <td>0.000000</td>\n",
       "      <td>0.000000</td>\n",
       "      <td>0.003845</td>\n",
       "      <td>0.00000</td>\n",
       "    </tr>\n",
       "  </tbody>\n",
       "</table>\n",
       "<p>5 rows × 27 columns</p>\n",
       "</div>"
      ],
      "text/plain": [
       "                0         1         2         3         4         5   \\\n",
       "0.000000 -0.023883  0.005193 -0.002836  0.005233  0.000402  0.001689   \n",
       "0.000833 -0.008448  0.000920 -0.000920  0.004920 -0.001453 -0.000000   \n",
       "0.001667 -0.000000  0.000000 -0.000799  0.003724 -0.002159 -0.000000   \n",
       "0.002500 -0.000000  0.000000 -0.000000  0.002727 -0.000922 -0.000000   \n",
       "0.003333 -0.000000  0.000000 -0.000000  0.001588 -0.000000 -0.000000   \n",
       "\n",
       "                6         7         8         9   ...        17        18  \\\n",
       "0.000000 -0.017966 -0.001896 -0.004843 -0.003191  ... -0.003806  0.001023   \n",
       "0.000833 -0.016704 -0.000376 -0.004622 -0.000000  ... -0.000000  0.000000   \n",
       "0.001667 -0.016031 -0.000000 -0.003766 -0.000000  ...  0.000000  0.000000   \n",
       "0.002500 -0.014922 -0.000000 -0.003063 -0.000000  ...  0.000000  0.000000   \n",
       "0.003333 -0.013738 -0.000000 -0.002358 -0.000000  ...  0.000000  0.000000   \n",
       "\n",
       "                19        20        21        22        23        24  \\\n",
       "0.000000  0.002934 -0.002547 -0.006512  0.002509  0.017451  0.001151   \n",
       "0.000833  0.000000 -0.002752  0.000000  0.001389  0.005113  0.000000   \n",
       "0.001667  0.000000 -0.003337  0.000000  0.001048  0.000177  0.000000   \n",
       "0.002500  0.000000 -0.002780  0.000000  0.000115  0.000000  0.000000   \n",
       "0.003333  0.000000 -0.002393  0.000000  0.000000  0.000000  0.000000   \n",
       "\n",
       "                25       26  \n",
       "0.000000  0.005875 -0.00631  \n",
       "0.000833  0.002245  0.00000  \n",
       "0.001667  0.003078  0.00000  \n",
       "0.002500  0.003865  0.00000  \n",
       "0.003333  0.003845  0.00000  \n",
       "\n",
       "[5 rows x 27 columns]"
      ]
     },
     "execution_count": 362,
     "metadata": {},
     "output_type": "execute_result"
    }
   ],
   "source": [
    "list_alpha = np.linspace(0,0.02,25)\n",
    "\n",
    "X = data1_train.drop('growth',axis = 1)\n",
    "y = data1_train['growth']\n",
    "scaler = StandardScaler()\n",
    "X = scaler.fit_transform(X)\n",
    "# Now, X is standardised\n",
    "coeff_matrix = {}\n",
    "\n",
    "for alpha in list_alpha:\n",
    "    lasso = Lasso(alpha=alpha)\n",
    "    lasso.fit(X,y)\n",
    "    coeff_matrix[alpha] = list(lasso.coef_)\n",
    "    \n",
    "tmp = pd.DataFrame(coeff_matrix).T\n",
    "tmp.index = list_alpha\n",
    "tmp.head()\n",
    "\n"
   ]
  },
  {
   "cell_type": "code",
   "execution_count": 363,
   "id": "585a8ae3",
   "metadata": {},
   "outputs": [
    {
     "name": "stdout",
     "output_type": "stream",
     "text": [
      "[0.         0.00083333 0.00166667 0.0025     0.00333333 0.00416667\n",
      " 0.005      0.00583333 0.00666667 0.0075     0.00833333 0.00916667\n",
      " 0.01       0.01083333 0.01166667 0.0125     0.01333333 0.01416667\n",
      " 0.015      0.01583333 0.01666667 0.0175     0.01833333 0.01916667\n",
      " 0.02      ]\n"
     ]
    }
   ],
   "source": [
    "print(list_alpha)"
   ]
  },
  {
   "cell_type": "code",
   "execution_count": 364,
   "id": "2f97bd03",
   "metadata": {},
   "outputs": [
    {
     "ename": "TypeError",
     "evalue": "'numpy.ndarray' object is not callable",
     "output_type": "error",
     "traceback": [
      "\u001b[1;31m---------------------------------------------------------------------------\u001b[0m",
      "\u001b[1;31mTypeError\u001b[0m                                 Traceback (most recent call last)",
      "Cell \u001b[1;32mIn[364], line 5\u001b[0m\n\u001b[0;32m      3\u001b[0m plt\u001b[38;5;241m.\u001b[39maxhline(y \u001b[38;5;241m=\u001b[39m \u001b[38;5;241m0\u001b[39m,linestyle \u001b[38;5;241m=\u001b[39m \u001b[38;5;124m'\u001b[39m\u001b[38;5;124mdashed\u001b[39m\u001b[38;5;124m'\u001b[39m,lw \u001b[38;5;241m=\u001b[39m \u001b[38;5;241m0.1\u001b[39m,color \u001b[38;5;241m=\u001b[39m \u001b[38;5;124m'\u001b[39m\u001b[38;5;124mblack\u001b[39m\u001b[38;5;124m'\u001b[39m)\n\u001b[0;32m      4\u001b[0m \u001b[38;5;66;03m#plt.xscale('log')\u001b[39;00m\n\u001b[1;32m----> 5\u001b[0m plt\u001b[38;5;241m.\u001b[39mxticks(list_alpha)\n\u001b[0;32m      6\u001b[0m plt\u001b[38;5;241m.\u001b[39mylabel(\u001b[38;5;124m'\u001b[39m\u001b[38;5;124mCoeffients\u001b[39m\u001b[38;5;124m'\u001b[39m,fontsize \u001b[38;5;241m=\u001b[39m \u001b[38;5;241m14\u001b[39m)\n\u001b[0;32m      7\u001b[0m plt\u001b[38;5;241m.\u001b[39mxlabel(\u001b[38;5;124m'\u001b[39m\u001b[38;5;124mAlpha\u001b[39m\u001b[38;5;124m'\u001b[39m)\n",
      "\u001b[1;31mTypeError\u001b[0m: 'numpy.ndarray' object is not callable"
     ]
    },
    {
     "data": {
      "image/png": "[encoded data removed]",
      "text/plain": [
       "<Figure size 1600x800 with 1 Axes>"
      ]
     },
     "metadata": {},
     "output_type": "display_data"
    }
   ],
   "source": [
    "plt.figure(figsize = (16,8))\n",
    "sns.lineplot(data = tmp, dashes=False)\n",
    "plt.axhline(y = 0,linestyle = 'dashed',lw = 0.1,color = 'black')\n",
    "#plt.xscale('log')\n",
    "plt.xticks(list_alpha)\n",
    "plt.ylabel('Coeffients',fontsize = 14)\n",
    "plt.xlabel('Alpha')\n",
    "plt.legend(loc='right')"
   ]
  },
  {
   "cell_type": "code",
   "execution_count": 365,
   "id": "895b54ff",
   "metadata": {},
   "outputs": [
    {
     "name": "stdout",
     "output_type": "stream",
     "text": [
      "[0.0, 0.0, -0.0, 0.0, -0.0, -0.0, -0.010558234030821555, -0.0, -0.0, -0.0, 0.0, -0.0, 0.0, -0.0, 0.0, -0.0, -0.0, 0.0, 0.0, 0.0, -0.0005564111299403489, 0.0, 0.0, 0.0, 0.0, 0.0031000430546365165, 0.0]\n"
     ]
    }
   ],
   "source": [
    "#for a small value of aplpha, the coeff are - \n",
    "print(coeff_matrix[list_alpha[8]])"
   ]
  },
  {
   "cell_type": "code",
   "execution_count": 366,
   "id": "b228a23a",
   "metadata": {},
   "outputs": [
    {
     "name": "stdout",
     "output_type": "stream",
     "text": [
      "[0.0, 0.0, -0.0, 0.0, -0.0, -0.0, -0.0014363671274545372, -0.0, -0.0, -0.0, 0.0, -0.0, 0.0, -0.0, 0.0, -0.0, -0.0, 0.0, 0.0, 0.0, -0.0, 0.0, 0.0, 0.0, 0.0, 0.0, 0.0]\n"
     ]
    }
   ],
   "source": [
    "# for a large value of alpha, the coeff are - \n",
    "print(coeff_matrix[list_alpha[20]])"
   ]
  },
  {
   "cell_type": "code",
   "execution_count": 367,
   "id": "ddce371e",
   "metadata": {},
   "outputs": [
    {
     "data": {
      "text/plain": [
       "(0.0, 0.02)"
      ]
     },
     "execution_count": 367,
     "metadata": {},
     "output_type": "execute_result"
    },
    {
     "data": {
      "image/png": "[encoded data removed]",
      "text/plain": [
       "<Figure size 1400x600 with 1 Axes>"
      ]
     },
     "metadata": {},
     "output_type": "display_data"
    }
   ],
   "source": [
    "list_l2_norm = []\n",
    "for alpha in list_alpha:\n",
    "    list_l2_norm.append(np.linalg.norm(coeff_matrix[alpha]))\n",
    "plt.figure(figsize = (14,6))\n",
    "plt.plot(list_alpha,list_l2_norm)\n",
    "plt.xlabel('Alpha')\n",
    "plt.ylabel('L2 Norm')\n",
    "plt.xlim(0,0.02)"
   ]
  },
  {
   "cell_type": "code",
   "execution_count": 368,
   "id": "5eb351a7",
   "metadata": {},
   "outputs": [
    {
     "name": "stderr",
     "output_type": "stream",
     "text": [
      "C:\\Users\\buca4591\\AppData\\Local\\anaconda3\\Lib\\site-packages\\sklearn\\base.py:1151: UserWarning: With alpha=0, this algorithm does not converge well. You are advised to use the LinearRegression estimator\n",
      "  return fit_method(estimator, *args, **kwargs)\n",
      "C:\\Users\\buca4591\\AppData\\Local\\anaconda3\\Lib\\site-packages\\sklearn\\linear_model\\_coordinate_descent.py:628: UserWarning: Coordinate descent with no regularization may lead to unexpected results and is discouraged.\n",
      "  model = cd_fast.enet_coordinate_descent(\n",
      "C:\\Users\\buca4591\\AppData\\Local\\anaconda3\\Lib\\site-packages\\sklearn\\linear_model\\_coordinate_descent.py:628: ConvergenceWarning: Objective did not converge. You might want to increase the number of iterations, check the scale of the features or consider increasing regularisation. Duality gap: 8.220e-03, tolerance: 5.861e-06 Linear regression models with null weight for the l1 regularization term are more efficiently fitted using one of the solvers implemented in sklearn.linear_model.Ridge/RidgeCV instead.\n",
      "  model = cd_fast.enet_coordinate_descent(\n",
      "C:\\Users\\buca4591\\AppData\\Local\\anaconda3\\Lib\\site-packages\\sklearn\\base.py:1151: UserWarning: With alpha=0, this algorithm does not converge well. You are advised to use the LinearRegression estimator\n",
      "  return fit_method(estimator, *args, **kwargs)\n",
      "C:\\Users\\buca4591\\AppData\\Local\\anaconda3\\Lib\\site-packages\\sklearn\\linear_model\\_coordinate_descent.py:628: UserWarning: Coordinate descent with no regularization may lead to unexpected results and is discouraged.\n",
      "  model = cd_fast.enet_coordinate_descent(\n",
      "C:\\Users\\buca4591\\AppData\\Local\\anaconda3\\Lib\\site-packages\\sklearn\\linear_model\\_coordinate_descent.py:628: ConvergenceWarning: Objective did not converge. You might want to increase the number of iterations, check the scale of the features or consider increasing regularisation. Duality gap: 9.754e-03, tolerance: 6.865e-06 Linear regression models with null weight for the l1 regularization term are more efficiently fitted using one of the solvers implemented in sklearn.linear_model.Ridge/RidgeCV instead.\n",
      "  model = cd_fast.enet_coordinate_descent(\n",
      "C:\\Users\\buca4591\\AppData\\Local\\anaconda3\\Lib\\site-packages\\sklearn\\base.py:1151: UserWarning: With alpha=0, this algorithm does not converge well. You are advised to use the LinearRegression estimator\n",
      "  return fit_method(estimator, *args, **kwargs)\n",
      "C:\\Users\\buca4591\\AppData\\Local\\anaconda3\\Lib\\site-packages\\sklearn\\linear_model\\_coordinate_descent.py:628: UserWarning: Coordinate descent with no regularization may lead to unexpected results and is discouraged.\n",
      "  model = cd_fast.enet_coordinate_descent(\n",
      "C:\\Users\\buca4591\\AppData\\Local\\anaconda3\\Lib\\site-packages\\sklearn\\linear_model\\_coordinate_descent.py:628: ConvergenceWarning: Objective did not converge. You might want to increase the number of iterations, check the scale of the features or consider increasing regularisation. Duality gap: 8.220e-03, tolerance: 5.932e-06 Linear regression models with null weight for the l1 regularization term are more efficiently fitted using one of the solvers implemented in sklearn.linear_model.Ridge/RidgeCV instead.\n",
      "  model = cd_fast.enet_coordinate_descent(\n",
      "C:\\Users\\buca4591\\AppData\\Local\\anaconda3\\Lib\\site-packages\\sklearn\\base.py:1151: UserWarning: With alpha=0, this algorithm does not converge well. You are advised to use the LinearRegression estimator\n",
      "  return fit_method(estimator, *args, **kwargs)\n",
      "C:\\Users\\buca4591\\AppData\\Local\\anaconda3\\Lib\\site-packages\\sklearn\\linear_model\\_coordinate_descent.py:628: UserWarning: Coordinate descent with no regularization may lead to unexpected results and is discouraged.\n",
      "  model = cd_fast.enet_coordinate_descent(\n",
      "C:\\Users\\buca4591\\AppData\\Local\\anaconda3\\Lib\\site-packages\\sklearn\\linear_model\\_coordinate_descent.py:628: ConvergenceWarning: Objective did not converge. You might want to increase the number of iterations, check the scale of the features or consider increasing regularisation. Duality gap: 9.829e-03, tolerance: 6.610e-06 Linear regression models with null weight for the l1 regularization term are more efficiently fitted using one of the solvers implemented in sklearn.linear_model.Ridge/RidgeCV instead.\n",
      "  model = cd_fast.enet_coordinate_descent(\n",
      "C:\\Users\\buca4591\\AppData\\Local\\anaconda3\\Lib\\site-packages\\sklearn\\base.py:1151: UserWarning: With alpha=0, this algorithm does not converge well. You are advised to use the LinearRegression estimator\n",
      "  return fit_method(estimator, *args, **kwargs)\n",
      "C:\\Users\\buca4591\\AppData\\Local\\anaconda3\\Lib\\site-packages\\sklearn\\linear_model\\_coordinate_descent.py:628: UserWarning: Coordinate descent with no regularization may lead to unexpected results and is discouraged.\n",
      "  model = cd_fast.enet_coordinate_descent(\n",
      "C:\\Users\\buca4591\\AppData\\Local\\anaconda3\\Lib\\site-packages\\sklearn\\linear_model\\_coordinate_descent.py:628: ConvergenceWarning: Objective did not converge. You might want to increase the number of iterations, check the scale of the features or consider increasing regularisation. Duality gap: 7.452e-03, tolerance: 5.148e-06 Linear regression models with null weight for the l1 regularization term are more efficiently fitted using one of the solvers implemented in sklearn.linear_model.Ridge/RidgeCV instead.\n",
      "  model = cd_fast.enet_coordinate_descent(\n"
     ]
    },
    {
     "data": {
      "text/html": [
       "<style>#sk-container-id-23 {color: black;}#sk-container-id-23 pre{padding: 0;}#sk-container-id-23 div.sk-toggleable {background-color: white;}#sk-container-id-23 label.sk-toggleable__label {cursor: pointer;display: block;width: 100%;margin-bottom: 0;padding: 0.3em;box-sizing: border-box;text-align: center;}#sk-container-id-23 label.sk-toggleable__label-arrow:before {content: \"▸\";float: left;margin-right: 0.25em;color: #696969;}#sk-container-id-23 label.sk-toggleable__label-arrow:hover:before {color: black;}#sk-container-id-23 div.sk-estimator:hover label.sk-toggleable__label-arrow:before {color: black;}#sk-container-id-23 div.sk-toggleable__content {max-height: 0;max-width: 0;overflow: hidden;text-align: left;background-color: #f0f8ff;}#sk-container-id-23 div.sk-toggleable__content pre {margin: 0.2em;color: black;border-radius: 0.25em;background-color: #f0f8ff;}#sk-container-id-23 input.sk-toggleable__control:checked~div.sk-toggleable__content {max-height: 200px;max-width: 100%;overflow: auto;}#sk-container-id-23 input.sk-toggleable__control:checked~label.sk-toggleable__label-arrow:before {content: \"▾\";}#sk-container-id-23 div.sk-estimator input.sk-toggleable__control:checked~label.sk-toggleable__label {background-color: #d4ebff;}#sk-container-id-23 div.sk-label input.sk-toggleable__control:checked~label.sk-toggleable__label {background-color: #d4ebff;}#sk-container-id-23 input.sk-hidden--visually {border: 0;clip: rect(1px 1px 1px 1px);clip: rect(1px, 1px, 1px, 1px);height: 1px;margin: -1px;overflow: hidden;padding: 0;position: absolute;width: 1px;}#sk-container-id-23 div.sk-estimator {font-family: monospace;background-color: #f0f8ff;border: 1px dotted black;border-radius: 0.25em;box-sizing: border-box;margin-bottom: 0.5em;}#sk-container-id-23 div.sk-estimator:hover {background-color: #d4ebff;}#sk-container-id-23 div.sk-parallel-item::after {content: \"\";width: 100%;border-bottom: 1px solid gray;flex-grow: 1;}#sk-container-id-23 div.sk-label:hover label.sk-toggleable__label {background-color: #d4ebff;}#sk-container-id-23 div.sk-serial::before {content: \"\";position: absolute;border-left: 1px solid gray;box-sizing: border-box;top: 0;bottom: 0;left: 50%;z-index: 0;}#sk-container-id-23 div.sk-serial {display: flex;flex-direction: column;align-items: center;background-color: white;padding-right: 0.2em;padding-left: 0.2em;position: relative;}#sk-container-id-23 div.sk-item {position: relative;z-index: 1;}#sk-container-id-23 div.sk-parallel {display: flex;align-items: stretch;justify-content: center;background-color: white;position: relative;}#sk-container-id-23 div.sk-item::before, #sk-container-id-23 div.sk-parallel-item::before {content: \"\";position: absolute;border-left: 1px solid gray;box-sizing: border-box;top: 0;bottom: 0;left: 50%;z-index: -1;}#sk-container-id-23 div.sk-parallel-item {display: flex;flex-direction: column;z-index: 1;position: relative;background-color: white;}#sk-container-id-23 div.sk-parallel-item:first-child::after {align-self: flex-end;width: 50%;}#sk-container-id-23 div.sk-parallel-item:last-child::after {align-self: flex-start;width: 50%;}#sk-container-id-23 div.sk-parallel-item:only-child::after {width: 0;}#sk-container-id-23 div.sk-dashed-wrapped {border: 1px dashed gray;margin: 0 0.4em 0.5em 0.4em;box-sizing: border-box;padding-bottom: 0.4em;background-color: white;}#sk-container-id-23 div.sk-label label {font-family: monospace;font-weight: bold;display: inline-block;line-height: 1.2em;}#sk-container-id-23 div.sk-label-container {text-align: center;}#sk-container-id-23 div.sk-container {/* jupyter's `normalize.less` sets `[hidden] { display: none; }` but bootstrap.min.css set `[hidden] { display: none !important; }` so we also need the `!important` here to be able to override the default hidden behavior on the sphinx rendered scikit-learn.org. See: https://github.com/scikit-learn/scikit-learn/issues/21755 */display: inline-block !important;position: relative;}#sk-container-id-23 div.sk-text-repr-fallback {display: none;}</style><div id=\"sk-container-id-23\" class=\"sk-top-container\"><div class=\"sk-text-repr-fallback\"><pre>GridSearchCV(estimator=Lasso(),\n",
       "             param_grid={&#x27;alpha&#x27;: array([0.        , 0.00083333, 0.00166667, 0.0025    , 0.00333333,\n",
       "       0.00416667, 0.005     , 0.00583333, 0.00666667, 0.0075    ,\n",
       "       0.00833333, 0.00916667, 0.01      , 0.01083333, 0.01166667,\n",
       "       0.0125    , 0.01333333, 0.01416667, 0.015     , 0.01583333,\n",
       "       0.01666667, 0.0175    , 0.01833333, 0.01916667, 0.02      ])})</pre><b>In a Jupyter environment, please rerun this cell to show the HTML representation or trust the notebook. <br />On GitHub, the HTML representation is unable to render, please try loading this page with nbviewer.org.</b></div><div class=\"sk-container\" hidden><div class=\"sk-item sk-dashed-wrapped\"><div class=\"sk-label-container\"><div class=\"sk-label sk-toggleable\"><input class=\"sk-toggleable__control sk-hidden--visually\" id=\"sk-estimator-id-47\" type=\"checkbox\" ><label for=\"sk-estimator-id-47\" class=\"sk-toggleable__label sk-toggleable__label-arrow\">GridSearchCV</label><div class=\"sk-toggleable__content\"><pre>GridSearchCV(estimator=Lasso(),\n",
       "             param_grid={&#x27;alpha&#x27;: array([0.        , 0.00083333, 0.00166667, 0.0025    , 0.00333333,\n",
       "       0.00416667, 0.005     , 0.00583333, 0.00666667, 0.0075    ,\n",
       "       0.00833333, 0.00916667, 0.01      , 0.01083333, 0.01166667,\n",
       "       0.0125    , 0.01333333, 0.01416667, 0.015     , 0.01583333,\n",
       "       0.01666667, 0.0175    , 0.01833333, 0.01916667, 0.02      ])})</pre></div></div></div><div class=\"sk-parallel\"><div class=\"sk-parallel-item\"><div class=\"sk-item\"><div class=\"sk-label-container\"><div class=\"sk-label sk-toggleable\"><input class=\"sk-toggleable__control sk-hidden--visually\" id=\"sk-estimator-id-48\" type=\"checkbox\" ><label for=\"sk-estimator-id-48\" class=\"sk-toggleable__label sk-toggleable__label-arrow\">estimator: Lasso</label><div class=\"sk-toggleable__content\"><pre>Lasso()</pre></div></div></div><div class=\"sk-serial\"><div class=\"sk-item\"><div class=\"sk-estimator sk-toggleable\"><input class=\"sk-toggleable__control sk-hidden--visually\" id=\"sk-estimator-id-49\" type=\"checkbox\" ><label for=\"sk-estimator-id-49\" class=\"sk-toggleable__label sk-toggleable__label-arrow\">Lasso</label><div class=\"sk-toggleable__content\"><pre>Lasso()</pre></div></div></div></div></div></div></div></div></div></div>"
      ],
      "text/plain": [
       "GridSearchCV(estimator=Lasso(),\n",
       "             param_grid={'alpha': array([0.        , 0.00083333, 0.00166667, 0.0025    , 0.00333333,\n",
       "       0.00416667, 0.005     , 0.00583333, 0.00666667, 0.0075    ,\n",
       "       0.00833333, 0.00916667, 0.01      , 0.01083333, 0.01166667,\n",
       "       0.0125    , 0.01333333, 0.01416667, 0.015     , 0.01583333,\n",
       "       0.01666667, 0.0175    , 0.01833333, 0.01916667, 0.02      ])})"
      ]
     },
     "execution_count": 368,
     "metadata": {},
     "output_type": "execute_result"
    }
   ],
   "source": [
    "# cross validation for this model \n",
    "parameters = {'alpha':list_alpha}\n",
    "lasso = Lasso()\n",
    "lasso = GridSearchCV(lasso,parameters)\n",
    "lasso.fit(data1_train.drop('growth',axis = 1),data1_train['growth'])\n"
   ]
  },
  {
   "cell_type": "code",
   "execution_count": 369,
   "id": "565e4404",
   "metadata": {},
   "outputs": [
    {
     "data": {
      "text/html": [
       "<style>#sk-container-id-24 {color: black;}#sk-container-id-24 pre{padding: 0;}#sk-container-id-24 div.sk-toggleable {background-color: white;}#sk-container-id-24 label.sk-toggleable__label {cursor: pointer;display: block;width: 100%;margin-bottom: 0;padding: 0.3em;box-sizing: border-box;text-align: center;}#sk-container-id-24 label.sk-toggleable__label-arrow:before {content: \"▸\";float: left;margin-right: 0.25em;color: #696969;}#sk-container-id-24 label.sk-toggleable__label-arrow:hover:before {color: black;}#sk-container-id-24 div.sk-estimator:hover label.sk-toggleable__label-arrow:before {color: black;}#sk-container-id-24 div.sk-toggleable__content {max-height: 0;max-width: 0;overflow: hidden;text-align: left;background-color: #f0f8ff;}#sk-container-id-24 div.sk-toggleable__content pre {margin: 0.2em;color: black;border-radius: 0.25em;background-color: #f0f8ff;}#sk-container-id-24 input.sk-toggleable__control:checked~div.sk-toggleable__content {max-height: 200px;max-width: 100%;overflow: auto;}#sk-container-id-24 input.sk-toggleable__control:checked~label.sk-toggleable__label-arrow:before {content: \"▾\";}#sk-container-id-24 div.sk-estimator input.sk-toggleable__control:checked~label.sk-toggleable__label {background-color: #d4ebff;}#sk-container-id-24 div.sk-label input.sk-toggleable__control:checked~label.sk-toggleable__label {background-color: #d4ebff;}#sk-container-id-24 input.sk-hidden--visually {border: 0;clip: rect(1px 1px 1px 1px);clip: rect(1px, 1px, 1px, 1px);height: 1px;margin: -1px;overflow: hidden;padding: 0;position: absolute;width: 1px;}#sk-container-id-24 div.sk-estimator {font-family: monospace;background-color: #f0f8ff;border: 1px dotted black;border-radius: 0.25em;box-sizing: border-box;margin-bottom: 0.5em;}#sk-container-id-24 div.sk-estimator:hover {background-color: #d4ebff;}#sk-container-id-24 div.sk-parallel-item::after {content: \"\";width: 100%;border-bottom: 1px solid gray;flex-grow: 1;}#sk-container-id-24 div.sk-label:hover label.sk-toggleable__label {background-color: #d4ebff;}#sk-container-id-24 div.sk-serial::before {content: \"\";position: absolute;border-left: 1px solid gray;box-sizing: border-box;top: 0;bottom: 0;left: 50%;z-index: 0;}#sk-container-id-24 div.sk-serial {display: flex;flex-direction: column;align-items: center;background-color: white;padding-right: 0.2em;padding-left: 0.2em;position: relative;}#sk-container-id-24 div.sk-item {position: relative;z-index: 1;}#sk-container-id-24 div.sk-parallel {display: flex;align-items: stretch;justify-content: center;background-color: white;position: relative;}#sk-container-id-24 div.sk-item::before, #sk-container-id-24 div.sk-parallel-item::before {content: \"\";position: absolute;border-left: 1px solid gray;box-sizing: border-box;top: 0;bottom: 0;left: 50%;z-index: -1;}#sk-container-id-24 div.sk-parallel-item {display: flex;flex-direction: column;z-index: 1;position: relative;background-color: white;}#sk-container-id-24 div.sk-parallel-item:first-child::after {align-self: flex-end;width: 50%;}#sk-container-id-24 div.sk-parallel-item:last-child::after {align-self: flex-start;width: 50%;}#sk-container-id-24 div.sk-parallel-item:only-child::after {width: 0;}#sk-container-id-24 div.sk-dashed-wrapped {border: 1px dashed gray;margin: 0 0.4em 0.5em 0.4em;box-sizing: border-box;padding-bottom: 0.4em;background-color: white;}#sk-container-id-24 div.sk-label label {font-family: monospace;font-weight: bold;display: inline-block;line-height: 1.2em;}#sk-container-id-24 div.sk-label-container {text-align: center;}#sk-container-id-24 div.sk-container {/* jupyter's `normalize.less` sets `[hidden] { display: none; }` but bootstrap.min.css set `[hidden] { display: none !important; }` so we also need the `!important` here to be able to override the default hidden behavior on the sphinx rendered scikit-learn.org. See: https://github.com/scikit-learn/scikit-learn/issues/21755 */display: inline-block !important;position: relative;}#sk-container-id-24 div.sk-text-repr-fallback {display: none;}</style><div id=\"sk-container-id-24\" class=\"sk-top-container\"><div class=\"sk-text-repr-fallback\"><pre>Lasso(alpha=0.0008333333333333334)</pre><b>In a Jupyter environment, please rerun this cell to show the HTML representation or trust the notebook. <br />On GitHub, the HTML representation is unable to render, please try loading this page with nbviewer.org.</b></div><div class=\"sk-container\" hidden><div class=\"sk-item\"><div class=\"sk-estimator sk-toggleable\"><input class=\"sk-toggleable__control sk-hidden--visually\" id=\"sk-estimator-id-50\" type=\"checkbox\" checked><label for=\"sk-estimator-id-50\" class=\"sk-toggleable__label sk-toggleable__label-arrow\">Lasso</label><div class=\"sk-toggleable__content\"><pre>Lasso(alpha=0.0008333333333333334)</pre></div></div></div></div></div>"
      ],
      "text/plain": [
       "Lasso(alpha=0.0008333333333333334)"
      ]
     },
     "execution_count": 369,
     "metadata": {},
     "output_type": "execute_result"
    }
   ],
   "source": [
    "best_lasso = lasso.best_estimator_\n",
    "best_lasso"
   ]
  },
  {
   "cell_type": "code",
   "execution_count": 370,
   "id": "042a7bf3",
   "metadata": {},
   "outputs": [
    {
     "data": {
      "text/plain": [
       "array([-0.00900267,  0.00072645, -0.00066289,  0.00474333, -0.00113012,\n",
       "        0.        , -0.01193069, -0.        , -0.00481354, -0.        ,\n",
       "        0.        , -0.00358942, -0.        , -0.        ,  0.        ,\n",
       "       -0.00215652, -0.00039588, -0.        ,  0.        ,  0.        ,\n",
       "       -0.00238961,  0.        ,  0.00123437,  0.00488197,  0.        ,\n",
       "        0.00253973,  0.        ])"
      ]
     },
     "execution_count": 370,
     "metadata": {},
     "output_type": "execute_result"
    }
   ],
   "source": [
    "best_lasso.coef_"
   ]
  },
  {
   "cell_type": "code",
   "execution_count": 371,
   "id": "8bcc81b1",
   "metadata": {},
   "outputs": [
    {
     "data": {
      "text/html": [
       "<div>\n",
       "<style scoped>\n",
       "    .dataframe tbody tr th:only-of-type {\n",
       "        vertical-align: middle;\n",
       "    }\n",
       "\n",
       "    .dataframe tbody tr th {\n",
       "        vertical-align: top;\n",
       "    }\n",
       "\n",
       "    .dataframe thead th {\n",
       "        text-align: right;\n",
       "    }\n",
       "</style>\n",
       "<table border=\"1\" class=\"dataframe\">\n",
       "  <thead>\n",
       "    <tr style=\"text-align: right;\">\n",
       "      <th></th>\n",
       "      <th>Coefficients</th>\n",
       "    </tr>\n",
       "  </thead>\n",
       "  <tbody>\n",
       "    <tr>\n",
       "      <th>ln_y</th>\n",
       "      <td>-0.009003</td>\n",
       "    </tr>\n",
       "    <tr>\n",
       "      <th>hc</th>\n",
       "      <td>0.000726</td>\n",
       "    </tr>\n",
       "    <tr>\n",
       "      <th>gvmnt_c</th>\n",
       "      <td>-0.000663</td>\n",
       "    </tr>\n",
       "    <tr>\n",
       "      <th>gcf</th>\n",
       "      <td>0.004743</td>\n",
       "    </tr>\n",
       "    <tr>\n",
       "      <th>ext_bal</th>\n",
       "      <td>-0.001130</td>\n",
       "    </tr>\n",
       "    <tr>\n",
       "      <th>trade</th>\n",
       "      <td>0.000000</td>\n",
       "    </tr>\n",
       "    <tr>\n",
       "      <th>inflation</th>\n",
       "      <td>-0.011931</td>\n",
       "    </tr>\n",
       "    <tr>\n",
       "      <th>fem_emp</th>\n",
       "      <td>-0.000000</td>\n",
       "    </tr>\n",
       "    <tr>\n",
       "      <th>tot_emp</th>\n",
       "      <td>-0.004814</td>\n",
       "    </tr>\n",
       "    <tr>\n",
       "      <th>inf_mort</th>\n",
       "      <td>-0.000000</td>\n",
       "    </tr>\n",
       "    <tr>\n",
       "      <th>lexp</th>\n",
       "      <td>0.000000</td>\n",
       "    </tr>\n",
       "    <tr>\n",
       "      <th>tfr</th>\n",
       "      <td>-0.003589</td>\n",
       "    </tr>\n",
       "    <tr>\n",
       "      <th>age_dep_old</th>\n",
       "      <td>-0.000000</td>\n",
       "    </tr>\n",
       "    <tr>\n",
       "      <th>age_dep_young</th>\n",
       "      <td>-0.000000</td>\n",
       "    </tr>\n",
       "    <tr>\n",
       "      <th>urban</th>\n",
       "      <td>0.000000</td>\n",
       "    </tr>\n",
       "    <tr>\n",
       "      <th>yrsoffc</th>\n",
       "      <td>-0.002157</td>\n",
       "    </tr>\n",
       "    <tr>\n",
       "      <th>military</th>\n",
       "      <td>-0.000396</td>\n",
       "    </tr>\n",
       "    <tr>\n",
       "      <th>competitiveness_leg</th>\n",
       "      <td>-0.000000</td>\n",
       "    </tr>\n",
       "    <tr>\n",
       "      <th>competitiveness_exec</th>\n",
       "      <td>0.000000</td>\n",
       "    </tr>\n",
       "    <tr>\n",
       "      <th>parliamentary</th>\n",
       "      <td>0.000000</td>\n",
       "    </tr>\n",
       "    <tr>\n",
       "      <th>presidential</th>\n",
       "      <td>-0.002390</td>\n",
       "    </tr>\n",
       "    <tr>\n",
       "      <th>voice</th>\n",
       "      <td>0.000000</td>\n",
       "    </tr>\n",
       "    <tr>\n",
       "      <th>stability</th>\n",
       "      <td>0.001234</td>\n",
       "    </tr>\n",
       "    <tr>\n",
       "      <th>effectiveness</th>\n",
       "      <td>0.004882</td>\n",
       "    </tr>\n",
       "    <tr>\n",
       "      <th>regulation</th>\n",
       "      <td>0.000000</td>\n",
       "    </tr>\n",
       "    <tr>\n",
       "      <th>law</th>\n",
       "      <td>0.002540</td>\n",
       "    </tr>\n",
       "    <tr>\n",
       "      <th>corruption</th>\n",
       "      <td>0.000000</td>\n",
       "    </tr>\n",
       "  </tbody>\n",
       "</table>\n",
       "</div>"
      ],
      "text/plain": [
       "                      Coefficients\n",
       "ln_y                     -0.009003\n",
       "hc                        0.000726\n",
       "gvmnt_c                  -0.000663\n",
       "gcf                       0.004743\n",
       "ext_bal                  -0.001130\n",
       "trade                     0.000000\n",
       "inflation                -0.011931\n",
       "fem_emp                  -0.000000\n",
       "tot_emp                  -0.004814\n",
       "inf_mort                 -0.000000\n",
       "lexp                      0.000000\n",
       "tfr                      -0.003589\n",
       "age_dep_old              -0.000000\n",
       "age_dep_young            -0.000000\n",
       "urban                     0.000000\n",
       "yrsoffc                  -0.002157\n",
       "military                 -0.000396\n",
       "competitiveness_leg      -0.000000\n",
       "competitiveness_exec      0.000000\n",
       "parliamentary             0.000000\n",
       "presidential             -0.002390\n",
       "voice                     0.000000\n",
       "stability                 0.001234\n",
       "effectiveness             0.004882\n",
       "regulation                0.000000\n",
       "law                       0.002540\n",
       "corruption                0.000000"
      ]
     },
     "execution_count": 371,
     "metadata": {},
     "output_type": "execute_result"
    }
   ],
   "source": [
    "pd.DataFrame({'Coefficients':list(best_lasso.coef_)},index = list(data1_train.drop('growth',axis = 1).columns))"
   ]
  },
  {
   "cell_type": "raw",
   "id": "374306c0",
   "metadata": {},
   "source": [
    "ridge "
   ]
  },
  {
   "cell_type": "code",
   "execution_count": 372,
   "id": "72d09ff0",
   "metadata": {},
   "outputs": [
    {
     "data": {
      "text/html": [
       "<div>\n",
       "<style scoped>\n",
       "    .dataframe tbody tr th:only-of-type {\n",
       "        vertical-align: middle;\n",
       "    }\n",
       "\n",
       "    .dataframe tbody tr th {\n",
       "        vertical-align: top;\n",
       "    }\n",
       "\n",
       "    .dataframe thead th {\n",
       "        text-align: right;\n",
       "    }\n",
       "</style>\n",
       "<table border=\"1\" class=\"dataframe\">\n",
       "  <thead>\n",
       "    <tr style=\"text-align: right;\">\n",
       "      <th></th>\n",
       "      <th>0</th>\n",
       "      <th>1</th>\n",
       "      <th>2</th>\n",
       "      <th>3</th>\n",
       "      <th>4</th>\n",
       "      <th>5</th>\n",
       "      <th>6</th>\n",
       "      <th>7</th>\n",
       "      <th>8</th>\n",
       "      <th>9</th>\n",
       "      <th>...</th>\n",
       "      <th>17</th>\n",
       "      <th>18</th>\n",
       "      <th>19</th>\n",
       "      <th>20</th>\n",
       "      <th>21</th>\n",
       "      <th>22</th>\n",
       "      <th>23</th>\n",
       "      <th>24</th>\n",
       "      <th>25</th>\n",
       "      <th>26</th>\n",
       "    </tr>\n",
       "  </thead>\n",
       "  <tbody>\n",
       "    <tr>\n",
       "      <th>0.000000</th>\n",
       "      <td>-0.023883</td>\n",
       "      <td>0.005193</td>\n",
       "      <td>-0.002836</td>\n",
       "      <td>0.005233</td>\n",
       "      <td>0.000402</td>\n",
       "      <td>0.001689</td>\n",
       "      <td>-0.017966</td>\n",
       "      <td>-0.001896</td>\n",
       "      <td>-0.004843</td>\n",
       "      <td>-0.003191</td>\n",
       "      <td>...</td>\n",
       "      <td>-0.003806</td>\n",
       "      <td>0.001023</td>\n",
       "      <td>0.002934</td>\n",
       "      <td>-0.002547</td>\n",
       "      <td>-0.006512</td>\n",
       "      <td>0.002509</td>\n",
       "      <td>0.017451</td>\n",
       "      <td>0.001151</td>\n",
       "      <td>0.005875</td>\n",
       "      <td>-0.006310</td>\n",
       "    </tr>\n",
       "    <tr>\n",
       "      <th>2.525253</th>\n",
       "      <td>-0.016956</td>\n",
       "      <td>0.004493</td>\n",
       "      <td>-0.003011</td>\n",
       "      <td>0.005172</td>\n",
       "      <td>-0.001234</td>\n",
       "      <td>0.000229</td>\n",
       "      <td>-0.016834</td>\n",
       "      <td>-0.001226</td>\n",
       "      <td>-0.004986</td>\n",
       "      <td>-0.002224</td>\n",
       "      <td>...</td>\n",
       "      <td>-0.002310</td>\n",
       "      <td>0.000225</td>\n",
       "      <td>0.001853</td>\n",
       "      <td>-0.003932</td>\n",
       "      <td>-0.003409</td>\n",
       "      <td>0.002691</td>\n",
       "      <td>0.008992</td>\n",
       "      <td>0.001881</td>\n",
       "      <td>0.003855</td>\n",
       "      <td>-0.002343</td>\n",
       "    </tr>\n",
       "    <tr>\n",
       "      <th>5.050505</th>\n",
       "      <td>-0.013416</td>\n",
       "      <td>0.003581</td>\n",
       "      <td>-0.002891</td>\n",
       "      <td>0.004847</td>\n",
       "      <td>-0.001935</td>\n",
       "      <td>-0.000301</td>\n",
       "      <td>-0.015881</td>\n",
       "      <td>-0.001548</td>\n",
       "      <td>-0.004387</td>\n",
       "      <td>-0.001581</td>\n",
       "      <td>...</td>\n",
       "      <td>-0.001618</td>\n",
       "      <td>-0.000115</td>\n",
       "      <td>0.001279</td>\n",
       "      <td>-0.004323</td>\n",
       "      <td>-0.002002</td>\n",
       "      <td>0.002611</td>\n",
       "      <td>0.006277</td>\n",
       "      <td>0.001896</td>\n",
       "      <td>0.003503</td>\n",
       "      <td>-0.001137</td>\n",
       "    </tr>\n",
       "    <tr>\n",
       "      <th>7.575758</th>\n",
       "      <td>-0.011235</td>\n",
       "      <td>0.002875</td>\n",
       "      <td>-0.002780</td>\n",
       "      <td>0.004552</td>\n",
       "      <td>-0.002325</td>\n",
       "      <td>-0.000585</td>\n",
       "      <td>-0.015107</td>\n",
       "      <td>-0.001783</td>\n",
       "      <td>-0.003970</td>\n",
       "      <td>-0.001271</td>\n",
       "      <td>...</td>\n",
       "      <td>-0.001214</td>\n",
       "      <td>-0.000260</td>\n",
       "      <td>0.000985</td>\n",
       "      <td>-0.004458</td>\n",
       "      <td>-0.001185</td>\n",
       "      <td>0.002531</td>\n",
       "      <td>0.004981</td>\n",
       "      <td>0.001838</td>\n",
       "      <td>0.003323</td>\n",
       "      <td>-0.000546</td>\n",
       "    </tr>\n",
       "    <tr>\n",
       "      <th>10.101010</th>\n",
       "      <td>-0.009736</td>\n",
       "      <td>0.002329</td>\n",
       "      <td>-0.002683</td>\n",
       "      <td>0.004293</td>\n",
       "      <td>-0.002563</td>\n",
       "      <td>-0.000759</td>\n",
       "      <td>-0.014457</td>\n",
       "      <td>-0.001948</td>\n",
       "      <td>-0.003671</td>\n",
       "      <td>-0.001096</td>\n",
       "      <td>...</td>\n",
       "      <td>-0.000950</td>\n",
       "      <td>-0.000319</td>\n",
       "      <td>0.000832</td>\n",
       "      <td>-0.004484</td>\n",
       "      <td>-0.000654</td>\n",
       "      <td>0.002461</td>\n",
       "      <td>0.004236</td>\n",
       "      <td>0.001777</td>\n",
       "      <td>0.003201</td>\n",
       "      <td>-0.000186</td>\n",
       "    </tr>\n",
       "    <tr>\n",
       "      <th>...</th>\n",
       "      <td>...</td>\n",
       "      <td>...</td>\n",
       "      <td>...</td>\n",
       "      <td>...</td>\n",
       "      <td>...</td>\n",
       "      <td>...</td>\n",
       "      <td>...</td>\n",
       "      <td>...</td>\n",
       "      <td>...</td>\n",
       "      <td>...</td>\n",
       "      <td>...</td>\n",
       "      <td>...</td>\n",
       "      <td>...</td>\n",
       "      <td>...</td>\n",
       "      <td>...</td>\n",
       "      <td>...</td>\n",
       "      <td>...</td>\n",
       "      <td>...</td>\n",
       "      <td>...</td>\n",
       "      <td>...</td>\n",
       "      <td>...</td>\n",
       "    </tr>\n",
       "    <tr>\n",
       "      <th>239.898990</th>\n",
       "      <td>-0.000862</td>\n",
       "      <td>-0.000384</td>\n",
       "      <td>-0.000731</td>\n",
       "      <td>0.000531</td>\n",
       "      <td>-0.001241</td>\n",
       "      <td>-0.000685</td>\n",
       "      <td>-0.004242</td>\n",
       "      <td>-0.001368</td>\n",
       "      <td>-0.001217</td>\n",
       "      <td>-0.000240</td>\n",
       "      <td>...</td>\n",
       "      <td>0.000285</td>\n",
       "      <td>0.000205</td>\n",
       "      <td>0.001002</td>\n",
       "      <td>-0.001790</td>\n",
       "      <td>0.001005</td>\n",
       "      <td>0.001152</td>\n",
       "      <td>0.001303</td>\n",
       "      <td>0.000906</td>\n",
       "      <td>0.001526</td>\n",
       "      <td>0.001067</td>\n",
       "    </tr>\n",
       "    <tr>\n",
       "      <th>242.424242</th>\n",
       "      <td>-0.000852</td>\n",
       "      <td>-0.000381</td>\n",
       "      <td>-0.000725</td>\n",
       "      <td>0.000524</td>\n",
       "      <td>-0.001232</td>\n",
       "      <td>-0.000681</td>\n",
       "      <td>-0.004213</td>\n",
       "      <td>-0.001360</td>\n",
       "      <td>-0.001210</td>\n",
       "      <td>-0.000239</td>\n",
       "      <td>...</td>\n",
       "      <td>0.000286</td>\n",
       "      <td>0.000205</td>\n",
       "      <td>0.000999</td>\n",
       "      <td>-0.001779</td>\n",
       "      <td>0.001002</td>\n",
       "      <td>0.001147</td>\n",
       "      <td>0.001297</td>\n",
       "      <td>0.000903</td>\n",
       "      <td>0.001519</td>\n",
       "      <td>0.001064</td>\n",
       "    </tr>\n",
       "    <tr>\n",
       "      <th>244.949495</th>\n",
       "      <td>-0.000842</td>\n",
       "      <td>-0.000379</td>\n",
       "      <td>-0.000718</td>\n",
       "      <td>0.000518</td>\n",
       "      <td>-0.001222</td>\n",
       "      <td>-0.000677</td>\n",
       "      <td>-0.004184</td>\n",
       "      <td>-0.001352</td>\n",
       "      <td>-0.001203</td>\n",
       "      <td>-0.000238</td>\n",
       "      <td>...</td>\n",
       "      <td>0.000286</td>\n",
       "      <td>0.000206</td>\n",
       "      <td>0.000997</td>\n",
       "      <td>-0.001769</td>\n",
       "      <td>0.000999</td>\n",
       "      <td>0.001142</td>\n",
       "      <td>0.001292</td>\n",
       "      <td>0.000899</td>\n",
       "      <td>0.001512</td>\n",
       "      <td>0.001061</td>\n",
       "    </tr>\n",
       "    <tr>\n",
       "      <th>247.474747</th>\n",
       "      <td>-0.000832</td>\n",
       "      <td>-0.000376</td>\n",
       "      <td>-0.000712</td>\n",
       "      <td>0.000512</td>\n",
       "      <td>-0.001213</td>\n",
       "      <td>-0.000673</td>\n",
       "      <td>-0.004156</td>\n",
       "      <td>-0.001344</td>\n",
       "      <td>-0.001197</td>\n",
       "      <td>-0.000238</td>\n",
       "      <td>...</td>\n",
       "      <td>0.000286</td>\n",
       "      <td>0.000207</td>\n",
       "      <td>0.000994</td>\n",
       "      <td>-0.001759</td>\n",
       "      <td>0.000996</td>\n",
       "      <td>0.001137</td>\n",
       "      <td>0.001286</td>\n",
       "      <td>0.000896</td>\n",
       "      <td>0.001505</td>\n",
       "      <td>0.001058</td>\n",
       "    </tr>\n",
       "    <tr>\n",
       "      <th>250.000000</th>\n",
       "      <td>-0.000823</td>\n",
       "      <td>-0.000373</td>\n",
       "      <td>-0.000705</td>\n",
       "      <td>0.000506</td>\n",
       "      <td>-0.001204</td>\n",
       "      <td>-0.000669</td>\n",
       "      <td>-0.004127</td>\n",
       "      <td>-0.001336</td>\n",
       "      <td>-0.001190</td>\n",
       "      <td>-0.000237</td>\n",
       "      <td>...</td>\n",
       "      <td>0.000286</td>\n",
       "      <td>0.000208</td>\n",
       "      <td>0.000991</td>\n",
       "      <td>-0.001749</td>\n",
       "      <td>0.000993</td>\n",
       "      <td>0.001132</td>\n",
       "      <td>0.001281</td>\n",
       "      <td>0.000893</td>\n",
       "      <td>0.001498</td>\n",
       "      <td>0.001055</td>\n",
       "    </tr>\n",
       "  </tbody>\n",
       "</table>\n",
       "<p>100 rows × 27 columns</p>\n",
       "</div>"
      ],
      "text/plain": [
       "                  0         1         2         3         4         5   \\\n",
       "0.000000   -0.023883  0.005193 -0.002836  0.005233  0.000402  0.001689   \n",
       "2.525253   -0.016956  0.004493 -0.003011  0.005172 -0.001234  0.000229   \n",
       "5.050505   -0.013416  0.003581 -0.002891  0.004847 -0.001935 -0.000301   \n",
       "7.575758   -0.011235  0.002875 -0.002780  0.004552 -0.002325 -0.000585   \n",
       "10.101010  -0.009736  0.002329 -0.002683  0.004293 -0.002563 -0.000759   \n",
       "...              ...       ...       ...       ...       ...       ...   \n",
       "239.898990 -0.000862 -0.000384 -0.000731  0.000531 -0.001241 -0.000685   \n",
       "242.424242 -0.000852 -0.000381 -0.000725  0.000524 -0.001232 -0.000681   \n",
       "244.949495 -0.000842 -0.000379 -0.000718  0.000518 -0.001222 -0.000677   \n",
       "247.474747 -0.000832 -0.000376 -0.000712  0.000512 -0.001213 -0.000673   \n",
       "250.000000 -0.000823 -0.000373 -0.000705  0.000506 -0.001204 -0.000669   \n",
       "\n",
       "                  6         7         8         9   ...        17        18  \\\n",
       "0.000000   -0.017966 -0.001896 -0.004843 -0.003191  ... -0.003806  0.001023   \n",
       "2.525253   -0.016834 -0.001226 -0.004986 -0.002224  ... -0.002310  0.000225   \n",
       "5.050505   -0.015881 -0.001548 -0.004387 -0.001581  ... -0.001618 -0.000115   \n",
       "7.575758   -0.015107 -0.001783 -0.003970 -0.001271  ... -0.001214 -0.000260   \n",
       "10.101010  -0.014457 -0.001948 -0.003671 -0.001096  ... -0.000950 -0.000319   \n",
       "...              ...       ...       ...       ...  ...       ...       ...   \n",
       "239.898990 -0.004242 -0.001368 -0.001217 -0.000240  ...  0.000285  0.000205   \n",
       "242.424242 -0.004213 -0.001360 -0.001210 -0.000239  ...  0.000286  0.000205   \n",
       "244.949495 -0.004184 -0.001352 -0.001203 -0.000238  ...  0.000286  0.000206   \n",
       "247.474747 -0.004156 -0.001344 -0.001197 -0.000238  ...  0.000286  0.000207   \n",
       "250.000000 -0.004127 -0.001336 -0.001190 -0.000237  ...  0.000286  0.000208   \n",
       "\n",
       "                  19        20        21        22        23        24  \\\n",
       "0.000000    0.002934 -0.002547 -0.006512  0.002509  0.017451  0.001151   \n",
       "2.525253    0.001853 -0.003932 -0.003409  0.002691  0.008992  0.001881   \n",
       "5.050505    0.001279 -0.004323 -0.002002  0.002611  0.006277  0.001896   \n",
       "7.575758    0.000985 -0.004458 -0.001185  0.002531  0.004981  0.001838   \n",
       "10.101010   0.000832 -0.004484 -0.000654  0.002461  0.004236  0.001777   \n",
       "...              ...       ...       ...       ...       ...       ...   \n",
       "239.898990  0.001002 -0.001790  0.001005  0.001152  0.001303  0.000906   \n",
       "242.424242  0.000999 -0.001779  0.001002  0.001147  0.001297  0.000903   \n",
       "244.949495  0.000997 -0.001769  0.000999  0.001142  0.001292  0.000899   \n",
       "247.474747  0.000994 -0.001759  0.000996  0.001137  0.001286  0.000896   \n",
       "250.000000  0.000991 -0.001749  0.000993  0.001132  0.001281  0.000893   \n",
       "\n",
       "                  25        26  \n",
       "0.000000    0.005875 -0.006310  \n",
       "2.525253    0.003855 -0.002343  \n",
       "5.050505    0.003503 -0.001137  \n",
       "7.575758    0.003323 -0.000546  \n",
       "10.101010   0.003201 -0.000186  \n",
       "...              ...       ...  \n",
       "239.898990  0.001526  0.001067  \n",
       "242.424242  0.001519  0.001064  \n",
       "244.949495  0.001512  0.001061  \n",
       "247.474747  0.001505  0.001058  \n",
       "250.000000  0.001498  0.001055  \n",
       "\n",
       "[100 rows x 27 columns]"
      ]
     },
     "execution_count": 372,
     "metadata": {},
     "output_type": "execute_result"
    }
   ],
   "source": [
    "list_alpha = np.linspace(0,250,100)\n",
    "\n",
    "X = data1_train.drop('growth',axis = 1)\n",
    "y = data1_train['growth']\n",
    "\n",
    "scaler = StandardScaler()\n",
    "X = scaler.fit_transform(X)\n",
    "# Now, X is standardised\n",
    "coeff_matrix = {}\n",
    "\n",
    "for alpha in list_alpha:\n",
    "    ridge= Ridge(alpha=alpha)\n",
    "    ridge.fit(X,y)\n",
    "    coeff_matrix[alpha] = list(ridge.coef_)\n",
    "tmp = pd.DataFrame(coeff_matrix).T\n",
    "tmp.index = list_alpha\n",
    "tmp"
   ]
  },
  {
   "cell_type": "code",
   "execution_count": 373,
   "id": "ebce657e",
   "metadata": {},
   "outputs": [
    {
     "ename": "TypeError",
     "evalue": "'numpy.ndarray' object is not callable",
     "output_type": "error",
     "traceback": [
      "\u001b[1;31m---------------------------------------------------------------------------\u001b[0m",
      "\u001b[1;31mTypeError\u001b[0m                                 Traceback (most recent call last)",
      "Cell \u001b[1;32mIn[373], line 5\u001b[0m\n\u001b[0;32m      3\u001b[0m plt\u001b[38;5;241m.\u001b[39maxhline(y \u001b[38;5;241m=\u001b[39m \u001b[38;5;241m0\u001b[39m,linestyle \u001b[38;5;241m=\u001b[39m \u001b[38;5;124m'\u001b[39m\u001b[38;5;124mdashed\u001b[39m\u001b[38;5;124m'\u001b[39m,lw \u001b[38;5;241m=\u001b[39m \u001b[38;5;241m0.1\u001b[39m,color \u001b[38;5;241m=\u001b[39m \u001b[38;5;124m'\u001b[39m\u001b[38;5;124mblack\u001b[39m\u001b[38;5;124m'\u001b[39m)\n\u001b[0;32m      4\u001b[0m \u001b[38;5;66;03m#plt.xscale('log')\u001b[39;00m\n\u001b[1;32m----> 5\u001b[0m plt\u001b[38;5;241m.\u001b[39mxticks(list_alpha)\n\u001b[0;32m      6\u001b[0m plt\u001b[38;5;241m.\u001b[39mylabel(\u001b[38;5;124m'\u001b[39m\u001b[38;5;124mCoeffients\u001b[39m\u001b[38;5;124m'\u001b[39m,fontsize \u001b[38;5;241m=\u001b[39m \u001b[38;5;241m14\u001b[39m)\n\u001b[0;32m      7\u001b[0m plt\u001b[38;5;241m.\u001b[39mxlabel(\u001b[38;5;124m'\u001b[39m\u001b[38;5;124mAlpha\u001b[39m\u001b[38;5;124m'\u001b[39m)\n",
      "\u001b[1;31mTypeError\u001b[0m: 'numpy.ndarray' object is not callable"
     ]
    },
    {
     "data": {
      "image/png": "[encoded data removed]",
      "text/plain": [
       "<Figure size 1600x800 with 1 Axes>"
      ]
     },
     "metadata": {},
     "output_type": "display_data"
    }
   ],
   "source": [
    "plt.figure(figsize = (16,8))\n",
    "sns.lineplot(data = tmp, dashes=False)\n",
    "plt.axhline(y = 0,linestyle = 'dashed',lw = 0.1,color = 'black')\n",
    "#plt.xscale('log')\n",
    "plt.xticks(list_alpha)\n",
    "plt.ylabel('Coeffients',fontsize = 14)\n",
    "plt.xlabel('Alpha')\n",
    "plt.legend(loc='right')"
   ]
  },
  {
   "cell_type": "code",
   "execution_count": 374,
   "id": "f41e272f",
   "metadata": {},
   "outputs": [
    {
     "name": "stdout",
     "output_type": "stream",
     "text": [
      "[-0.006541444380633493, 0.0010401760224325958, -0.002396284724855302, 0.0035074841079119046, -0.0028983672570206563, -0.001052231535746951, -0.01255522055965907, -0.0022590423655650623, -0.003010879689563959, -0.000801291894108141, 0.0003294976192615051, -0.0016683705912966774, -0.0015886534941680008, 0.0008924767051650041, 0.0010530714188566946, -0.0018605365157314884, -0.00036590506000953394, -0.0004316274589860882, -0.0003093226781884339, 0.0007169583880637412, -0.0042663672041336675, 0.000346551647356072, 0.002255290760746968, 0.0030003672992846377, 0.0015966917593061272, 0.0029195506739333357, 0.0005033122628665168]\n"
     ]
    }
   ],
   "source": [
    "#for a small value of aplpha, the coeff are - \n",
    "print(coeff_matrix[list_alpha[8]])"
   ]
  },
  {
   "cell_type": "code",
   "execution_count": 375,
   "id": "fcf83cb3",
   "metadata": {},
   "outputs": [
    {
     "name": "stdout",
     "output_type": "stream",
     "text": [
      "[-0.003507979371199235, -0.00014302595888758912, -0.0018762330505380674, 0.0022328147650601056, -0.002682018644812052, -0.0011280820466496627, -0.009472991050239687, -0.0023111208268245973, -0.0023061400980187315, -0.0005233327829506014, 0.0007915355416592516, -0.0007588385934641222, -0.0013703767816856001, 0.0006579778013816352, 0.00020091510188853897, -0.0011053154310039096, -1.0670807718087743e-05, -1.8558527626433357e-07, -9.174412236807232e-05, 0.0009548326083231719, -0.0034763572828467038, 0.0010242006995017242, 0.0019069548074227129, 0.002171167626423903, 0.0013556563289295464, 0.0025094561527506977, 0.0010620080642498528]\n"
     ]
    }
   ],
   "source": [
    "# for a large value of alpha, the coeff are - \n",
    "print(coeff_matrix[list_alpha[20]])"
   ]
  },
  {
   "cell_type": "code",
   "execution_count": 376,
   "id": "d516f3b2",
   "metadata": {},
   "outputs": [
    {
     "data": {
      "text/plain": [
       "(0.0, 250.0)"
      ]
     },
     "execution_count": 376,
     "metadata": {},
     "output_type": "execute_result"
    },
    {
     "data": {
      "image/png": "[encoded data removed]",
      "text/plain": [
       "<Figure size 1400x600 with 1 Axes>"
      ]
     },
     "metadata": {},
     "output_type": "display_data"
    }
   ],
   "source": [
    "list_l2_norm = []\n",
    "for alpha in list_alpha:\n",
    "    list_l2_norm.append(np.linalg.norm(coeff_matrix[alpha]))\n",
    "plt.figure(figsize = (14,6))\n",
    "plt.plot(list_alpha,list_l2_norm)\n",
    "plt.xlabel('Alpha')\n",
    "plt.ylabel('L2 Norm')\n",
    "plt.xlim(0,250)"
   ]
  },
  {
   "cell_type": "code",
   "execution_count": 378,
   "id": "60704a7d",
   "metadata": {},
   "outputs": [
    {
     "data": {
      "text/html": [
       "<style>#sk-container-id-26 {color: black;}#sk-container-id-26 pre{padding: 0;}#sk-container-id-26 div.sk-toggleable {background-color: white;}#sk-container-id-26 label.sk-toggleable__label {cursor: pointer;display: block;width: 100%;margin-bottom: 0;padding: 0.3em;box-sizing: border-box;text-align: center;}#sk-container-id-26 label.sk-toggleable__label-arrow:before {content: \"▸\";float: left;margin-right: 0.25em;color: #696969;}#sk-container-id-26 label.sk-toggleable__label-arrow:hover:before {color: black;}#sk-container-id-26 div.sk-estimator:hover label.sk-toggleable__label-arrow:before {color: black;}#sk-container-id-26 div.sk-toggleable__content {max-height: 0;max-width: 0;overflow: hidden;text-align: left;background-color: #f0f8ff;}#sk-container-id-26 div.sk-toggleable__content pre {margin: 0.2em;color: black;border-radius: 0.25em;background-color: #f0f8ff;}#sk-container-id-26 input.sk-toggleable__control:checked~div.sk-toggleable__content {max-height: 200px;max-width: 100%;overflow: auto;}#sk-container-id-26 input.sk-toggleable__control:checked~label.sk-toggleable__label-arrow:before {content: \"▾\";}#sk-container-id-26 div.sk-estimator input.sk-toggleable__control:checked~label.sk-toggleable__label {background-color: #d4ebff;}#sk-container-id-26 div.sk-label input.sk-toggleable__control:checked~label.sk-toggleable__label {background-color: #d4ebff;}#sk-container-id-26 input.sk-hidden--visually {border: 0;clip: rect(1px 1px 1px 1px);clip: rect(1px, 1px, 1px, 1px);height: 1px;margin: -1px;overflow: hidden;padding: 0;position: absolute;width: 1px;}#sk-container-id-26 div.sk-estimator {font-family: monospace;background-color: #f0f8ff;border: 1px dotted black;border-radius: 0.25em;box-sizing: border-box;margin-bottom: 0.5em;}#sk-container-id-26 div.sk-estimator:hover {background-color: #d4ebff;}#sk-container-id-26 div.sk-parallel-item::after {content: \"\";width: 100%;border-bottom: 1px solid gray;flex-grow: 1;}#sk-container-id-26 div.sk-label:hover label.sk-toggleable__label {background-color: #d4ebff;}#sk-container-id-26 div.sk-serial::before {content: \"\";position: absolute;border-left: 1px solid gray;box-sizing: border-box;top: 0;bottom: 0;left: 50%;z-index: 0;}#sk-container-id-26 div.sk-serial {display: flex;flex-direction: column;align-items: center;background-color: white;padding-right: 0.2em;padding-left: 0.2em;position: relative;}#sk-container-id-26 div.sk-item {position: relative;z-index: 1;}#sk-container-id-26 div.sk-parallel {display: flex;align-items: stretch;justify-content: center;background-color: white;position: relative;}#sk-container-id-26 div.sk-item::before, #sk-container-id-26 div.sk-parallel-item::before {content: \"\";position: absolute;border-left: 1px solid gray;box-sizing: border-box;top: 0;bottom: 0;left: 50%;z-index: -1;}#sk-container-id-26 div.sk-parallel-item {display: flex;flex-direction: column;z-index: 1;position: relative;background-color: white;}#sk-container-id-26 div.sk-parallel-item:first-child::after {align-self: flex-end;width: 50%;}#sk-container-id-26 div.sk-parallel-item:last-child::after {align-self: flex-start;width: 50%;}#sk-container-id-26 div.sk-parallel-item:only-child::after {width: 0;}#sk-container-id-26 div.sk-dashed-wrapped {border: 1px dashed gray;margin: 0 0.4em 0.5em 0.4em;box-sizing: border-box;padding-bottom: 0.4em;background-color: white;}#sk-container-id-26 div.sk-label label {font-family: monospace;font-weight: bold;display: inline-block;line-height: 1.2em;}#sk-container-id-26 div.sk-label-container {text-align: center;}#sk-container-id-26 div.sk-container {/* jupyter's `normalize.less` sets `[hidden] { display: none; }` but bootstrap.min.css set `[hidden] { display: none !important; }` so we also need the `!important` here to be able to override the default hidden behavior on the sphinx rendered scikit-learn.org. See: https://github.com/scikit-learn/scikit-learn/issues/21755 */display: inline-block !important;position: relative;}#sk-container-id-26 div.sk-text-repr-fallback {display: none;}</style><div id=\"sk-container-id-26\" class=\"sk-top-container\"><div class=\"sk-text-repr-fallback\"><pre>GridSearchCV(estimator=Ridge(),\n",
       "             param_grid={&#x27;alpha&#x27;: array([  0.        ,   2.52525253,   5.05050505,   7.57575758,\n",
       "        10.1010101 ,  12.62626263,  15.15151515,  17.67676768,\n",
       "        20.2020202 ,  22.72727273,  25.25252525,  27.77777778,\n",
       "        30.3030303 ,  32.82828283,  35.35353535,  37.87878788,\n",
       "        40.4040404 ,  42.92929293,  45.45454545,  47.97979798,\n",
       "        50.50505051,  53.03030303,  55.55555556,  58.08080808,\n",
       "        60.60606061,  63.13131...\n",
       "       181.81818182, 184.34343434, 186.86868687, 189.39393939,\n",
       "       191.91919192, 194.44444444, 196.96969697, 199.49494949,\n",
       "       202.02020202, 204.54545455, 207.07070707, 209.5959596 ,\n",
       "       212.12121212, 214.64646465, 217.17171717, 219.6969697 ,\n",
       "       222.22222222, 224.74747475, 227.27272727, 229.7979798 ,\n",
       "       232.32323232, 234.84848485, 237.37373737, 239.8989899 ,\n",
       "       242.42424242, 244.94949495, 247.47474747, 250.        ])})</pre><b>In a Jupyter environment, please rerun this cell to show the HTML representation or trust the notebook. <br />On GitHub, the HTML representation is unable to render, please try loading this page with nbviewer.org.</b></div><div class=\"sk-container\" hidden><div class=\"sk-item sk-dashed-wrapped\"><div class=\"sk-label-container\"><div class=\"sk-label sk-toggleable\"><input class=\"sk-toggleable__control sk-hidden--visually\" id=\"sk-estimator-id-54\" type=\"checkbox\" ><label for=\"sk-estimator-id-54\" class=\"sk-toggleable__label sk-toggleable__label-arrow\">GridSearchCV</label><div class=\"sk-toggleable__content\"><pre>GridSearchCV(estimator=Ridge(),\n",
       "             param_grid={&#x27;alpha&#x27;: array([  0.        ,   2.52525253,   5.05050505,   7.57575758,\n",
       "        10.1010101 ,  12.62626263,  15.15151515,  17.67676768,\n",
       "        20.2020202 ,  22.72727273,  25.25252525,  27.77777778,\n",
       "        30.3030303 ,  32.82828283,  35.35353535,  37.87878788,\n",
       "        40.4040404 ,  42.92929293,  45.45454545,  47.97979798,\n",
       "        50.50505051,  53.03030303,  55.55555556,  58.08080808,\n",
       "        60.60606061,  63.13131...\n",
       "       181.81818182, 184.34343434, 186.86868687, 189.39393939,\n",
       "       191.91919192, 194.44444444, 196.96969697, 199.49494949,\n",
       "       202.02020202, 204.54545455, 207.07070707, 209.5959596 ,\n",
       "       212.12121212, 214.64646465, 217.17171717, 219.6969697 ,\n",
       "       222.22222222, 224.74747475, 227.27272727, 229.7979798 ,\n",
       "       232.32323232, 234.84848485, 237.37373737, 239.8989899 ,\n",
       "       242.42424242, 244.94949495, 247.47474747, 250.        ])})</pre></div></div></div><div class=\"sk-parallel\"><div class=\"sk-parallel-item\"><div class=\"sk-item\"><div class=\"sk-label-container\"><div class=\"sk-label sk-toggleable\"><input class=\"sk-toggleable__control sk-hidden--visually\" id=\"sk-estimator-id-55\" type=\"checkbox\" ><label for=\"sk-estimator-id-55\" class=\"sk-toggleable__label sk-toggleable__label-arrow\">estimator: Ridge</label><div class=\"sk-toggleable__content\"><pre>Ridge()</pre></div></div></div><div class=\"sk-serial\"><div class=\"sk-item\"><div class=\"sk-estimator sk-toggleable\"><input class=\"sk-toggleable__control sk-hidden--visually\" id=\"sk-estimator-id-56\" type=\"checkbox\" ><label for=\"sk-estimator-id-56\" class=\"sk-toggleable__label sk-toggleable__label-arrow\">Ridge</label><div class=\"sk-toggleable__content\"><pre>Ridge()</pre></div></div></div></div></div></div></div></div></div></div>"
      ],
      "text/plain": [
       "GridSearchCV(estimator=Ridge(),\n",
       "             param_grid={'alpha': array([  0.        ,   2.52525253,   5.05050505,   7.57575758,\n",
       "        10.1010101 ,  12.62626263,  15.15151515,  17.67676768,\n",
       "        20.2020202 ,  22.72727273,  25.25252525,  27.77777778,\n",
       "        30.3030303 ,  32.82828283,  35.35353535,  37.87878788,\n",
       "        40.4040404 ,  42.92929293,  45.45454545,  47.97979798,\n",
       "        50.50505051,  53.03030303,  55.55555556,  58.08080808,\n",
       "        60.60606061,  63.13131...\n",
       "       181.81818182, 184.34343434, 186.86868687, 189.39393939,\n",
       "       191.91919192, 194.44444444, 196.96969697, 199.49494949,\n",
       "       202.02020202, 204.54545455, 207.07070707, 209.5959596 ,\n",
       "       212.12121212, 214.64646465, 217.17171717, 219.6969697 ,\n",
       "       222.22222222, 224.74747475, 227.27272727, 229.7979798 ,\n",
       "       232.32323232, 234.84848485, 237.37373737, 239.8989899 ,\n",
       "       242.42424242, 244.94949495, 247.47474747, 250.        ])})"
      ]
     },
     "execution_count": 378,
     "metadata": {},
     "output_type": "execute_result"
    }
   ],
   "source": [
    "# cross validation for this model\n",
    "parameters = {'alpha':list_alpha}\n",
    "ridge = Ridge()\n",
    "ridge = GridSearchCV(ridge,parameters)\n",
    "ridge.fit(data1_train.drop('growth',axis = 1),data1_train['growth'])\n"
   ]
  },
  {
   "cell_type": "code",
   "execution_count": 379,
   "id": "1802fe2e",
   "metadata": {},
   "outputs": [
    {
     "data": {
      "text/plain": [
       "array([-4.99040070e-03,  8.03774197e-04, -1.81421366e-03,  3.44863556e-03,\n",
       "       -3.00250817e-03, -7.82185461e-04, -9.74334752e-03, -1.87197047e-03,\n",
       "       -2.75563605e-03, -2.04963936e-04,  3.13547345e-04, -1.47528857e-03,\n",
       "       -9.91819454e-04,  4.32942992e-04,  4.30979094e-04, -1.80659814e-03,\n",
       "       -4.26516519e-04, -4.19057258e-05, -2.34770187e-05,  7.03582985e-04,\n",
       "       -3.48376545e-03,  2.96690720e-04,  1.99528729e-03,  2.22060689e-03,\n",
       "        1.23507650e-03,  2.35864677e-03,  6.38611258e-04])"
      ]
     },
     "execution_count": 379,
     "metadata": {},
     "output_type": "execute_result"
    }
   ],
   "source": [
    "best_ridge.coef_"
   ]
  },
  {
   "cell_type": "code",
   "execution_count": 380,
   "id": "b781b6bb",
   "metadata": {},
   "outputs": [
    {
     "data": {
      "text/html": [
       "<style>#sk-container-id-27 {color: black;}#sk-container-id-27 pre{padding: 0;}#sk-container-id-27 div.sk-toggleable {background-color: white;}#sk-container-id-27 label.sk-toggleable__label {cursor: pointer;display: block;width: 100%;margin-bottom: 0;padding: 0.3em;box-sizing: border-box;text-align: center;}#sk-container-id-27 label.sk-toggleable__label-arrow:before {content: \"▸\";float: left;margin-right: 0.25em;color: #696969;}#sk-container-id-27 label.sk-toggleable__label-arrow:hover:before {color: black;}#sk-container-id-27 div.sk-estimator:hover label.sk-toggleable__label-arrow:before {color: black;}#sk-container-id-27 div.sk-toggleable__content {max-height: 0;max-width: 0;overflow: hidden;text-align: left;background-color: #f0f8ff;}#sk-container-id-27 div.sk-toggleable__content pre {margin: 0.2em;color: black;border-radius: 0.25em;background-color: #f0f8ff;}#sk-container-id-27 input.sk-toggleable__control:checked~div.sk-toggleable__content {max-height: 200px;max-width: 100%;overflow: auto;}#sk-container-id-27 input.sk-toggleable__control:checked~label.sk-toggleable__label-arrow:before {content: \"▾\";}#sk-container-id-27 div.sk-estimator input.sk-toggleable__control:checked~label.sk-toggleable__label {background-color: #d4ebff;}#sk-container-id-27 div.sk-label input.sk-toggleable__control:checked~label.sk-toggleable__label {background-color: #d4ebff;}#sk-container-id-27 input.sk-hidden--visually {border: 0;clip: rect(1px 1px 1px 1px);clip: rect(1px, 1px, 1px, 1px);height: 1px;margin: -1px;overflow: hidden;padding: 0;position: absolute;width: 1px;}#sk-container-id-27 div.sk-estimator {font-family: monospace;background-color: #f0f8ff;border: 1px dotted black;border-radius: 0.25em;box-sizing: border-box;margin-bottom: 0.5em;}#sk-container-id-27 div.sk-estimator:hover {background-color: #d4ebff;}#sk-container-id-27 div.sk-parallel-item::after {content: \"\";width: 100%;border-bottom: 1px solid gray;flex-grow: 1;}#sk-container-id-27 div.sk-label:hover label.sk-toggleable__label {background-color: #d4ebff;}#sk-container-id-27 div.sk-serial::before {content: \"\";position: absolute;border-left: 1px solid gray;box-sizing: border-box;top: 0;bottom: 0;left: 50%;z-index: 0;}#sk-container-id-27 div.sk-serial {display: flex;flex-direction: column;align-items: center;background-color: white;padding-right: 0.2em;padding-left: 0.2em;position: relative;}#sk-container-id-27 div.sk-item {position: relative;z-index: 1;}#sk-container-id-27 div.sk-parallel {display: flex;align-items: stretch;justify-content: center;background-color: white;position: relative;}#sk-container-id-27 div.sk-item::before, #sk-container-id-27 div.sk-parallel-item::before {content: \"\";position: absolute;border-left: 1px solid gray;box-sizing: border-box;top: 0;bottom: 0;left: 50%;z-index: -1;}#sk-container-id-27 div.sk-parallel-item {display: flex;flex-direction: column;z-index: 1;position: relative;background-color: white;}#sk-container-id-27 div.sk-parallel-item:first-child::after {align-self: flex-end;width: 50%;}#sk-container-id-27 div.sk-parallel-item:last-child::after {align-self: flex-start;width: 50%;}#sk-container-id-27 div.sk-parallel-item:only-child::after {width: 0;}#sk-container-id-27 div.sk-dashed-wrapped {border: 1px dashed gray;margin: 0 0.4em 0.5em 0.4em;box-sizing: border-box;padding-bottom: 0.4em;background-color: white;}#sk-container-id-27 div.sk-label label {font-family: monospace;font-weight: bold;display: inline-block;line-height: 1.2em;}#sk-container-id-27 div.sk-label-container {text-align: center;}#sk-container-id-27 div.sk-container {/* jupyter's `normalize.less` sets `[hidden] { display: none; }` but bootstrap.min.css set `[hidden] { display: none !important; }` so we also need the `!important` here to be able to override the default hidden behavior on the sphinx rendered scikit-learn.org. See: https://github.com/scikit-learn/scikit-learn/issues/21755 */display: inline-block !important;position: relative;}#sk-container-id-27 div.sk-text-repr-fallback {display: none;}</style><div id=\"sk-container-id-27\" class=\"sk-top-container\"><div class=\"sk-text-repr-fallback\"><pre>Ridge(alpha=30.3030303030303)</pre><b>In a Jupyter environment, please rerun this cell to show the HTML representation or trust the notebook. <br />On GitHub, the HTML representation is unable to render, please try loading this page with nbviewer.org.</b></div><div class=\"sk-container\" hidden><div class=\"sk-item\"><div class=\"sk-estimator sk-toggleable\"><input class=\"sk-toggleable__control sk-hidden--visually\" id=\"sk-estimator-id-57\" type=\"checkbox\" checked><label for=\"sk-estimator-id-57\" class=\"sk-toggleable__label sk-toggleable__label-arrow\">Ridge</label><div class=\"sk-toggleable__content\"><pre>Ridge(alpha=30.3030303030303)</pre></div></div></div></div></div>"
      ],
      "text/plain": [
       "Ridge(alpha=30.3030303030303)"
      ]
     },
     "execution_count": 380,
     "metadata": {},
     "output_type": "execute_result"
    }
   ],
   "source": [
    "best_ridge = ridge.best_estimator_\n",
    "best_ridge"
   ]
  },
  {
   "cell_type": "code",
   "execution_count": 381,
   "id": "31f1a55b",
   "metadata": {},
   "outputs": [
    {
     "data": {
      "text/html": [
       "<div>\n",
       "<style scoped>\n",
       "    .dataframe tbody tr th:only-of-type {\n",
       "        vertical-align: middle;\n",
       "    }\n",
       "\n",
       "    .dataframe tbody tr th {\n",
       "        vertical-align: top;\n",
       "    }\n",
       "\n",
       "    .dataframe thead th {\n",
       "        text-align: right;\n",
       "    }\n",
       "</style>\n",
       "<table border=\"1\" class=\"dataframe\">\n",
       "  <thead>\n",
       "    <tr style=\"text-align: right;\">\n",
       "      <th></th>\n",
       "      <th>Coefficients</th>\n",
       "    </tr>\n",
       "  </thead>\n",
       "  <tbody>\n",
       "    <tr>\n",
       "      <th>ln_y</th>\n",
       "      <td>-0.004990</td>\n",
       "    </tr>\n",
       "    <tr>\n",
       "      <th>hc</th>\n",
       "      <td>0.000804</td>\n",
       "    </tr>\n",
       "    <tr>\n",
       "      <th>gvmnt_c</th>\n",
       "      <td>-0.001814</td>\n",
       "    </tr>\n",
       "    <tr>\n",
       "      <th>gcf</th>\n",
       "      <td>0.003449</td>\n",
       "    </tr>\n",
       "    <tr>\n",
       "      <th>ext_bal</th>\n",
       "      <td>-0.003003</td>\n",
       "    </tr>\n",
       "    <tr>\n",
       "      <th>trade</th>\n",
       "      <td>-0.000782</td>\n",
       "    </tr>\n",
       "    <tr>\n",
       "      <th>inflation</th>\n",
       "      <td>-0.009743</td>\n",
       "    </tr>\n",
       "    <tr>\n",
       "      <th>fem_emp</th>\n",
       "      <td>-0.001872</td>\n",
       "    </tr>\n",
       "    <tr>\n",
       "      <th>tot_emp</th>\n",
       "      <td>-0.002756</td>\n",
       "    </tr>\n",
       "    <tr>\n",
       "      <th>inf_mort</th>\n",
       "      <td>-0.000205</td>\n",
       "    </tr>\n",
       "    <tr>\n",
       "      <th>lexp</th>\n",
       "      <td>0.000314</td>\n",
       "    </tr>\n",
       "    <tr>\n",
       "      <th>tfr</th>\n",
       "      <td>-0.001475</td>\n",
       "    </tr>\n",
       "    <tr>\n",
       "      <th>age_dep_old</th>\n",
       "      <td>-0.000992</td>\n",
       "    </tr>\n",
       "    <tr>\n",
       "      <th>age_dep_young</th>\n",
       "      <td>0.000433</td>\n",
       "    </tr>\n",
       "    <tr>\n",
       "      <th>urban</th>\n",
       "      <td>0.000431</td>\n",
       "    </tr>\n",
       "    <tr>\n",
       "      <th>yrsoffc</th>\n",
       "      <td>-0.001807</td>\n",
       "    </tr>\n",
       "    <tr>\n",
       "      <th>military</th>\n",
       "      <td>-0.000427</td>\n",
       "    </tr>\n",
       "    <tr>\n",
       "      <th>competitiveness_leg</th>\n",
       "      <td>-0.000042</td>\n",
       "    </tr>\n",
       "    <tr>\n",
       "      <th>competitiveness_exec</th>\n",
       "      <td>-0.000023</td>\n",
       "    </tr>\n",
       "    <tr>\n",
       "      <th>parliamentary</th>\n",
       "      <td>0.000704</td>\n",
       "    </tr>\n",
       "    <tr>\n",
       "      <th>presidential</th>\n",
       "      <td>-0.003484</td>\n",
       "    </tr>\n",
       "    <tr>\n",
       "      <th>voice</th>\n",
       "      <td>0.000297</td>\n",
       "    </tr>\n",
       "    <tr>\n",
       "      <th>stability</th>\n",
       "      <td>0.001995</td>\n",
       "    </tr>\n",
       "    <tr>\n",
       "      <th>effectiveness</th>\n",
       "      <td>0.002221</td>\n",
       "    </tr>\n",
       "    <tr>\n",
       "      <th>regulation</th>\n",
       "      <td>0.001235</td>\n",
       "    </tr>\n",
       "    <tr>\n",
       "      <th>law</th>\n",
       "      <td>0.002359</td>\n",
       "    </tr>\n",
       "    <tr>\n",
       "      <th>corruption</th>\n",
       "      <td>0.000639</td>\n",
       "    </tr>\n",
       "  </tbody>\n",
       "</table>\n",
       "</div>"
      ],
      "text/plain": [
       "                      Coefficients\n",
       "ln_y                     -0.004990\n",
       "hc                        0.000804\n",
       "gvmnt_c                  -0.001814\n",
       "gcf                       0.003449\n",
       "ext_bal                  -0.003003\n",
       "trade                    -0.000782\n",
       "inflation                -0.009743\n",
       "fem_emp                  -0.001872\n",
       "tot_emp                  -0.002756\n",
       "inf_mort                 -0.000205\n",
       "lexp                      0.000314\n",
       "tfr                      -0.001475\n",
       "age_dep_old              -0.000992\n",
       "age_dep_young             0.000433\n",
       "urban                     0.000431\n",
       "yrsoffc                  -0.001807\n",
       "military                 -0.000427\n",
       "competitiveness_leg      -0.000042\n",
       "competitiveness_exec     -0.000023\n",
       "parliamentary             0.000704\n",
       "presidential             -0.003484\n",
       "voice                     0.000297\n",
       "stability                 0.001995\n",
       "effectiveness             0.002221\n",
       "regulation                0.001235\n",
       "law                       0.002359\n",
       "corruption                0.000639"
      ]
     },
     "execution_count": 381,
     "metadata": {},
     "output_type": "execute_result"
    }
   ],
   "source": [
    "pd.DataFrame({'Coefficients':list(best_ridge.coef_)},index = list(data1_train.drop('growth',axis = 1).columns))"
   ]
  },
  {
   "cell_type": "raw",
   "id": "7030a182",
   "metadata": {},
   "source": [
    "pcr "
   ]
  },
  {
   "cell_type": "code",
   "execution_count": 382,
   "id": "86cac1da",
   "metadata": {},
   "outputs": [],
   "source": [
    "X = data1_train.drop('growth',axis = 1)\n",
    "y = data1_train['growth']\n",
    "\n",
    "scaler = StandardScaler()\n",
    "X_scaled = scaler.fit_transform(X)\n",
    "\n",
    "#applying pca\n",
    "pca = PCA()\n",
    "X_pca = pca.fit_transform(X_scaled)"
   ]
  },
  {
   "cell_type": "code",
   "execution_count": 383,
   "id": "010fa774",
   "metadata": {},
   "outputs": [
    {
     "name": "stdout",
     "output_type": "stream",
     "text": [
      "Shape of data returned by pca is  (89, 27)\n"
     ]
    }
   ],
   "source": [
    "print('Shape of data returned by pca is ',X_pca.shape)"
   ]
  },
  {
   "cell_type": "code",
   "execution_count": 384,
   "id": "67ba4fcc",
   "metadata": {},
   "outputs": [
    {
     "name": "stdout",
     "output_type": "stream",
     "text": [
      "Total number of components are -  27\n"
     ]
    }
   ],
   "source": [
    "print('Total number of components are - ',len(pca.components_))"
   ]
  },
  {
   "cell_type": "code",
   "execution_count": 385,
   "id": "acc208f1",
   "metadata": {},
   "outputs": [
    {
     "data": {
      "text/plain": [
       "array([4.68195322e+01, 9.40775637e+00, 7.40967438e+00, 6.89855374e+00,\n",
       "       4.52401036e+00, 4.08160184e+00, 3.50530282e+00, 3.36859461e+00,\n",
       "       2.53272319e+00, 1.81295103e+00, 1.74106203e+00, 1.60186024e+00,\n",
       "       1.16164356e+00, 1.03972639e+00, 7.20412392e-01, 6.86469337e-01,\n",
       "       5.48845920e-01, 4.12824468e-01, 3.76730104e-01, 3.26916609e-01,\n",
       "       2.63395231e-01, 2.47394149e-01, 1.68633090e-01, 1.11473243e-01,\n",
       "       1.08262269e-01, 9.04619455e-02, 3.31885195e-02])"
      ]
     },
     "execution_count": 385,
     "metadata": {},
     "output_type": "execute_result"
    }
   ],
   "source": [
    "pca.explained_variance_ratio_*100"
   ]
  },
  {
   "cell_type": "code",
   "execution_count": 386,
   "id": "49570c99",
   "metadata": {},
   "outputs": [
    {
     "data": {
      "text/plain": [
       "array([46.8,  9.4,  7.4,  6.9,  4.5,  4.1,  3.5,  3.4,  2.5,  1.8,  1.7,\n",
       "        1.6,  1.2,  1. ,  0.7,  0.7,  0.5,  0.4,  0.4,  0.3,  0.3,  0.2,\n",
       "        0.2,  0.1,  0.1,  0.1,  0. ])"
      ]
     },
     "execution_count": 386,
     "metadata": {},
     "output_type": "execute_result"
    }
   ],
   "source": [
    "np.round(pca.explained_variance_ratio_*100,1)"
   ]
  },
  {
   "cell_type": "code",
   "execution_count": 387,
   "id": "606913b5",
   "metadata": {},
   "outputs": [],
   "source": [
    "def pcr(X,y):\n",
    "    scaler = StandardScaler()\n",
    "    X_scaled = scaler.fit_transform(X)\n",
    "    \n",
    "    num_components = X.shape[1]\n",
    "    scores = []\n",
    "    variability_explained = []\n",
    "    \n",
    "    for n_component in range(1,num_components+1):\n",
    "        pca = PCA(n_components=n_component)\n",
    "        X_pca = pca.fit_transform(X_scaled)\n",
    "        \n",
    "        lr = LinearRegression()\n",
    "        scores.append(-np.mean(cross_val_score(lr,X_pca,y,cv = 10,scoring = 'neg_mean_squared_error')))\n",
    "        variability_explained.append(np.sum(np.round(pca.explained_variance_ratio_*100,1)))\n",
    "        \n",
    "    return scores,variability_explained    \n",
    "\n"
   ]
  },
  {
   "cell_type": "code",
   "execution_count": 388,
   "id": "f12d4179",
   "metadata": {},
   "outputs": [
    {
     "data": {
      "text/plain": [
       "Text(0.5, 1.0, '% explained by num of components')"
      ]
     },
     "execution_count": 388,
     "metadata": {},
     "output_type": "execute_result"
    },
    {
     "data": {
      "image/png": "[encoded data removed]",
      "text/plain": [
       "<Figure size 1000x600 with 1 Axes>"
      ]
     },
     "metadata": {},
     "output_type": "display_data"
    }
   ],
   "source": [
    "scores,var_explained = pcr(X,y) \n",
    "num_components = np.arange(1,X.shape[1]+1)\n",
    "# Lets see the variability explained as function of the num_of_components\n",
    "plt.figure(figsize = (10,6))\n",
    "plt.plot(num_components,var_explained)\n",
    "plt.xlabel('Number of components')\n",
    "plt.ylabel('Percent. of varuability explained')\n",
    "plt.title('% explained by num of components')"
   ]
  },
  {
   "cell_type": "code",
   "execution_count": 389,
   "id": "adc40614",
   "metadata": {},
   "outputs": [
    {
     "data": {
      "image/png": "[encoded data removed]",
      "text/plain": [
       "<Figure size 1000x600 with 1 Axes>"
      ]
     },
     "metadata": {},
     "output_type": "display_data"
    }
   ],
   "source": [
    "plt.figure(figsize = (10,6))\n",
    "plt.plot(num_components,scores,marker = 'o')\n",
    "plt.xlabel('Num of components')\n",
    "plt.ylabel('CV score - 10 fold')\n",
    "plt.title('Cross Validation')\n",
    "plt.xticks = num_components"
   ]
  },
  {
   "cell_type": "markdown",
   "id": "950aaba6",
   "metadata": {},
   "source": [
    "mean growth  "
   ]
  },
  {
   "cell_type": "code",
   "execution_count": 390,
   "id": "112da8d1",
   "metadata": {},
   "outputs": [],
   "source": [
    "actual = y.mean()\n",
    "actual = [actual] * 23\n",
    "predicted = y_test\n",
    "mse = np.square(np.subtract(actual,predicted)).mean()  \n",
    "rmse = math.sqrt(mse) "
   ]
  },
  {
   "cell_type": "markdown",
   "id": "c39b1e21",
   "metadata": {},
   "source": [
    "kitchen sink "
   ]
  },
  {
   "cell_type": "code",
   "execution_count": 391,
   "id": "c5666803",
   "metadata": {},
   "outputs": [
    {
     "name": "stdout",
     "output_type": "stream",
     "text": [
      "[-0.02483475  0.00525051 -0.00265234  0.00478923  0.00060287  0.00235431\n",
      " -0.01234642 -0.00179206 -0.00465444 -0.00287339 -0.00840021 -0.01401803\n",
      "  0.00293759  0.00977944  0.00689415 -0.00368881 -0.00109321 -0.13422452\n",
      "  0.03255039  0.00311471 -0.00257055 -0.00661219  0.00257807  0.01803301\n",
      "  0.0011811   0.00597693 -0.00640814]\n",
      "0.029126442636149608\n"
     ]
    },
    {
     "data": {
      "text/html": [
       "<div>\n",
       "<style scoped>\n",
       "    .dataframe tbody tr th:only-of-type {\n",
       "        vertical-align: middle;\n",
       "    }\n",
       "\n",
       "    .dataframe tbody tr th {\n",
       "        vertical-align: top;\n",
       "    }\n",
       "\n",
       "    .dataframe thead th {\n",
       "        text-align: right;\n",
       "    }\n",
       "</style>\n",
       "<table border=\"1\" class=\"dataframe\">\n",
       "  <thead>\n",
       "    <tr style=\"text-align: right;\">\n",
       "      <th></th>\n",
       "      <th>Coeff</th>\n",
       "    </tr>\n",
       "  </thead>\n",
       "  <tbody>\n",
       "    <tr>\n",
       "      <th>ln_y</th>\n",
       "      <td>-0.024835</td>\n",
       "    </tr>\n",
       "    <tr>\n",
       "      <th>hc</th>\n",
       "      <td>0.005251</td>\n",
       "    </tr>\n",
       "    <tr>\n",
       "      <th>gvmnt_c</th>\n",
       "      <td>-0.002652</td>\n",
       "    </tr>\n",
       "    <tr>\n",
       "      <th>gcf</th>\n",
       "      <td>0.004789</td>\n",
       "    </tr>\n",
       "    <tr>\n",
       "      <th>ext_bal</th>\n",
       "      <td>0.000603</td>\n",
       "    </tr>\n",
       "    <tr>\n",
       "      <th>trade</th>\n",
       "      <td>0.002354</td>\n",
       "    </tr>\n",
       "    <tr>\n",
       "      <th>inflation</th>\n",
       "      <td>-0.012346</td>\n",
       "    </tr>\n",
       "    <tr>\n",
       "      <th>fem_emp</th>\n",
       "      <td>-0.001792</td>\n",
       "    </tr>\n",
       "    <tr>\n",
       "      <th>tot_emp</th>\n",
       "      <td>-0.004654</td>\n",
       "    </tr>\n",
       "    <tr>\n",
       "      <th>inf_mort</th>\n",
       "      <td>-0.002873</td>\n",
       "    </tr>\n",
       "    <tr>\n",
       "      <th>lexp</th>\n",
       "      <td>-0.008400</td>\n",
       "    </tr>\n",
       "    <tr>\n",
       "      <th>tfr</th>\n",
       "      <td>-0.014018</td>\n",
       "    </tr>\n",
       "    <tr>\n",
       "      <th>age_dep_old</th>\n",
       "      <td>0.002938</td>\n",
       "    </tr>\n",
       "    <tr>\n",
       "      <th>age_dep_young</th>\n",
       "      <td>0.009779</td>\n",
       "    </tr>\n",
       "    <tr>\n",
       "      <th>urban</th>\n",
       "      <td>0.006894</td>\n",
       "    </tr>\n",
       "    <tr>\n",
       "      <th>yrsoffc</th>\n",
       "      <td>-0.003689</td>\n",
       "    </tr>\n",
       "    <tr>\n",
       "      <th>military</th>\n",
       "      <td>-0.001093</td>\n",
       "    </tr>\n",
       "    <tr>\n",
       "      <th>competitiveness_leg</th>\n",
       "      <td>-0.134225</td>\n",
       "    </tr>\n",
       "    <tr>\n",
       "      <th>competitiveness_exec</th>\n",
       "      <td>0.032550</td>\n",
       "    </tr>\n",
       "    <tr>\n",
       "      <th>parliamentary</th>\n",
       "      <td>0.003115</td>\n",
       "    </tr>\n",
       "    <tr>\n",
       "      <th>presidential</th>\n",
       "      <td>-0.002571</td>\n",
       "    </tr>\n",
       "    <tr>\n",
       "      <th>voice</th>\n",
       "      <td>-0.006612</td>\n",
       "    </tr>\n",
       "    <tr>\n",
       "      <th>stability</th>\n",
       "      <td>0.002578</td>\n",
       "    </tr>\n",
       "    <tr>\n",
       "      <th>effectiveness</th>\n",
       "      <td>0.018033</td>\n",
       "    </tr>\n",
       "    <tr>\n",
       "      <th>regulation</th>\n",
       "      <td>0.001181</td>\n",
       "    </tr>\n",
       "    <tr>\n",
       "      <th>law</th>\n",
       "      <td>0.005977</td>\n",
       "    </tr>\n",
       "    <tr>\n",
       "      <th>corruption</th>\n",
       "      <td>-0.006408</td>\n",
       "    </tr>\n",
       "  </tbody>\n",
       "</table>\n",
       "</div>"
      ],
      "text/plain": [
       "                         Coeff\n",
       "ln_y                 -0.024835\n",
       "hc                    0.005251\n",
       "gvmnt_c              -0.002652\n",
       "gcf                   0.004789\n",
       "ext_bal               0.000603\n",
       "trade                 0.002354\n",
       "inflation            -0.012346\n",
       "fem_emp              -0.001792\n",
       "tot_emp              -0.004654\n",
       "inf_mort             -0.002873\n",
       "lexp                 -0.008400\n",
       "tfr                  -0.014018\n",
       "age_dep_old           0.002938\n",
       "age_dep_young         0.009779\n",
       "urban                 0.006894\n",
       "yrsoffc              -0.003689\n",
       "military             -0.001093\n",
       "competitiveness_leg  -0.134225\n",
       "competitiveness_exec  0.032550\n",
       "parliamentary         0.003115\n",
       "presidential         -0.002571\n",
       "voice                -0.006612\n",
       "stability             0.002578\n",
       "effectiveness         0.018033\n",
       "regulation            0.001181\n",
       "law                   0.005977\n",
       "corruption           -0.006408"
      ]
     },
     "execution_count": 391,
     "metadata": {},
     "output_type": "execute_result"
    }
   ],
   "source": [
    "X = data1_train.drop('growth',axis = 1)\n",
    "y = data1_train['growth']\n",
    "\n",
    "scaler = StandardScaler()\n",
    "X_scaled = scaler.fit_transform(X)\n",
    "\n",
    "model = LinearRegression()\n",
    "model.fit(X, y)\n",
    "print(model.coef_)\n",
    "print(model.intercept_)\n",
    "pd.DataFrame(model.coef_, X.columns, columns = ['Coeff'])"
   ]
  },
  {
   "cell_type": "markdown",
   "id": "ef5dd5c6",
   "metadata": {},
   "source": [
    "compare RMSE of all models "
   ]
  },
  {
   "cell_type": "code",
   "execution_count": 392,
   "id": "48895834",
   "metadata": {},
   "outputs": [
    {
     "name": "stdout",
     "output_type": "stream",
     "text": [
      "[[-0.47308137  0.25208484 -1.15814882 -0.24021605  0.17474589 -0.30754815\n",
      "  -0.34251977  0.36132567  0.68881832 -0.03173528 -0.45735509  0.43105281\n",
      "  -0.89109807  0.46213155 -0.24358101 -0.0059528  -0.38729833  0.21308087\n",
      "   0.21696251 -1.24721913  1.36930639  0.0439435  -0.53011398 -0.46726922\n",
      "  -0.06477033 -0.19590549 -0.46483802]\n",
      " [-1.47678151 -0.9283804  -0.3400365  -0.08472245 -0.05337549 -0.29677025\n",
      "  -0.35500802 -1.80696383 -0.93489669 -0.34169772  0.29147275  0.86954811\n",
      "  -0.80961975  1.13463714 -0.21160564  2.04776416  2.5819889   0.21795977\n",
      "   0.19988136 -1.24721913  1.36930639 -1.4776588  -0.46027689 -0.90121411\n",
      "  -1.56816309 -0.55447726 -1.00999195]\n",
      " [ 1.23297251  1.16636407 -0.44636782  0.53897154  0.42215473 -0.98289278\n",
      "  -0.37067923  0.83202185  0.97876743 -1.12826907  1.44841954 -1.13709549\n",
      "   1.13851046 -1.35421515  0.81886199 -0.69052512 -0.38729833  0.21795977\n",
      "   0.21940268  0.80178373 -0.73029674  0.8844248   1.08154296  0.58541445\n",
      "   0.37569611  1.05938177  0.6477207 ]\n",
      " [-0.35999612 -1.46933218  0.16821164  0.139495    0.1377166  -0.46401035\n",
      "  -0.35843221 -1.22052252 -0.92329891  0.67484575 -0.45398906  0.18366642\n",
      "  -0.59577384  0.30253205 -0.19348504  3.4169088  -0.38729833  0.21795977\n",
      "   0.19500103 -1.24721913  1.36930639 -0.51443332 -0.34237101 -0.33468414\n",
      "  -0.50973873  0.03567255 -0.00659549]\n",
      " [ 1.15778594  1.36520174  0.953891   -0.22558556  0.57994168 -0.24097065\n",
      "  -0.38056783  1.00949773  0.4452608  -1.08160806  1.17049844 -0.91550295\n",
      "   2.2053264  -1.16949493  0.63856753 -0.55361066 -0.38729833  0.21795977\n",
      "   0.21940268  0.80178373 -0.73029674  1.43203178  1.35078999  1.57776888\n",
      "   1.19999696  1.60054918  1.76583438]\n",
      " [-0.20756806 -0.44222247 -0.51941183 -0.377505   -0.31291789  0.73006683\n",
      "  -0.3280701  -0.57235061 -1.24804182  0.67817868 -1.39871083  1.14331456\n",
      "  -0.88410469  1.47038802 -1.17352856 -0.0059528  -0.38729833  0.18868634\n",
      "   0.19500103 -1.24721913  1.36930639 -1.39934293 -0.3464302  -0.92832931\n",
      "  -0.54839806 -0.69524192 -0.31768892]\n",
      " [ 0.34772561  0.49018417  0.31183133 -0.87226812  0.73545347 -0.2123575\n",
      "  -0.36031588 -0.43345653 -0.98128873 -0.40169045 -0.0984841  -0.70973844\n",
      "  -0.24799068 -0.27009757 -1.68429603 -0.69052512 -0.38729833  0.21795977\n",
      "   0.21940268  0.80178373 -0.73029674  0.48134842  0.14566209 -0.33468414\n",
      "   0.27665505  0.23006356  0.61018003]\n",
      " [-0.09709441  0.65083383 -0.49401022  0.20801976  0.23457633  0.27531287\n",
      "  -0.35991844 -0.7189609  -0.23901883 -0.31503429  0.26205269  0.54009041\n",
      "  -0.48209356  0.85078689 -0.2843797  -0.4166962  -0.38729833  0.21795977\n",
      "   0.21940268  0.80178373 -0.73029674  0.61771137  0.42178172  0.05201886\n",
      "  -0.16171635 -0.18353606 -0.31768892]\n",
      " [-1.3212843  -1.08049801 -0.69169342 -0.71698521  0.02263149 -0.30860772\n",
      "  -0.36332362  1.89687599  1.89500635  1.65472701 -1.86152603  1.54780889\n",
      "  -0.8388697   1.1894541  -0.93796081 -0.69052512 -0.38729833  0.19844415\n",
      "   0.19988136  0.80178373 -0.73029674 -1.23910396 -0.53957084 -1.04882072\n",
      "  -0.74060572 -0.91083311 -0.99506243]\n",
      " [-0.59936727  0.88481078  1.85674871  0.78552096  0.24618302 -0.91179372\n",
      "   2.16901376  1.04036289  0.56124045  1.72805145 -0.91106687  0.8842037\n",
      "  -0.59245495  0.97013439 -0.89778194 -0.69052512 -0.38729833 -4.69021858\n",
      "  -4.69020966 -1.24721913  1.36930639 -1.79988352 -2.31815485 -1.66359046\n",
      "  -1.88732544 -1.79578375 -1.56756394]\n",
      " [ 1.01927358 -0.06329793 -1.30423097  0.95903231  0.7746519   3.35368876\n",
      "  -0.37330754  0.77029124  1.11794309 -1.10827149  0.99579535 -0.98584979\n",
      "  -0.49039777 -1.1585242   1.63520032 -0.55361066 -0.38729833  0.21308087\n",
      "   0.21452235  0.80178373 -0.73029674  0.04301028  1.03750619  1.64908475\n",
      "   1.98242675  1.01897744  1.66918403]\n",
      " [ 0.34307852 -0.73454709 -0.59680346 -0.06873541  0.24327182 -0.77141524\n",
      "  -0.08834597 -0.67266287 -0.4129883   0.4082114  -0.50649636 -0.31403747\n",
      "  -0.52169885 -0.05929237  0.19568849 -0.69052512 -0.38729833  0.21795977\n",
      "   0.21940268  0.80178373 -0.73029674 -0.35876588 -1.33222145 -0.308891\n",
      "  -0.09232331 -0.35305664 -0.51264094]\n",
      " [ 0.93745067  1.80256698  0.42190402 -0.46654093  0.45820773 -0.36549328\n",
      "  -0.3689338   0.72399337  0.23649753 -1.00161775  1.02092011 -0.77480927\n",
      "   0.94760049 -0.94607976  1.08954068 -0.55361066 -0.38729833  0.21795977\n",
      "   0.21940268  0.80178373 -0.73029674  1.52153601  1.21754784  1.4975124\n",
      "   1.6945489   1.54472894  1.73480271]\n",
      " [ 1.10419514  0.37322634  0.964724   -0.19713488  0.3698661  -0.62496733\n",
      "  -0.36889694  0.14526842 -0.56376174 -1.05161169  1.15859    -0.99757426\n",
      "   1.7214352  -1.15601293  0.70186201 -0.69052512 -0.38729833  0.21795977\n",
      "   0.21940268  0.80178373 -0.73029674  1.14518527  0.7819631   1.01351974\n",
      "   0.62593078  1.18026126  0.83912535]\n",
      " [-0.90681693  0.80512703  0.56358116 -1.60760377 -2.36561056  0.23639646\n",
      "   0.73047079  0.42305627  0.13211612 -0.1917159   0.42492306 -0.33690019\n",
      "  -0.26163879 -0.24290684 -0.65269814  0.13096166 -0.38729833  0.21795977\n",
      "   0.21940268  0.80178373 -0.73029674 -0.90899595 -0.48239334 -1.04882072\n",
      "  -0.76251351 -1.07583762 -1.29669411]\n",
      " [-1.28886357 -0.85477877  2.49723162  3.9951579  -3.66871823  1.04105745\n",
      "  -0.31568356 -0.15566867 -0.81891705  1.09479486 -1.31401631  0.77223498\n",
      "  -0.48741705  0.85474242 -1.46003086 -0.69052512  2.5819889   0.18868634\n",
      "   0.19500103 -1.24721913  1.36930639 -0.68705836  0.07304525 -0.43815522\n",
      "  -0.71375439 -0.19241628 -0.73431395]\n",
      " [-1.2429009  -1.37288889 -2.05247237 -0.58195835  0.17959833 -0.94567011\n",
      "  -0.3662675   1.55735723  2.13856343  1.79471004 -1.29423315  0.41287988\n",
      "  -0.84403214  0.58383807 -1.25935528 -0.69052512 -0.38729833  0.21795977\n",
      "   0.21940268  0.80178373 -0.73029674 -0.28127956 -0.66579549 -0.98030589\n",
      "  -1.42301469 -1.10306264 -0.97112066]\n",
      " [ 1.16489107  0.97690224  0.75528206 -0.13099779  0.42391714  0.44622195\n",
      "  -0.36252874 -0.28684639 -0.93489669 -1.02161533  1.05292836 -1.05033439\n",
      "   1.92391654 -1.26246287  1.50912181  0.67861952 -0.38729833  0.21795977\n",
      "   0.21940268  0.80178373 -0.73029674  1.29256969  1.18237585  1.38295048\n",
      "   0.89735328  1.05208296  0.89030314]\n",
      " [ 0.61766593  0.4587144   0.16270193  0.09358573  0.10261664  1.27664861\n",
      "  -0.36195225 -0.98131618 -0.65654581 -0.96495552  0.97986006 -0.78067151\n",
      "   0.69947543 -0.9254745   1.29287783 -0.14286727 -0.38729833  0.21795977\n",
      "   0.21940268  0.80178373 -0.73029674  0.98410888  1.22059144  0.61965746\n",
      "   0.61619446  0.81630526  0.18563321]\n",
      " [ 0.39520489 -0.16272195 -1.11121174 -0.07472067  0.16997928 -0.71572909\n",
      "  -0.31376605 -0.40259138  0.35247718 -0.15172074  0.38047633 -0.08834136\n",
      "  -0.56325369  0.20350688  0.62194179  0.54170505 -0.38729833  0.21795977\n",
      "   0.21940268 -1.24721913  1.36930639 -0.23691473 -1.02459418 -0.23652601\n",
      "   0.07146375 -0.91105085 -0.71090598]\n",
      " [-0.02466618 -0.81499237  0.11404434 -0.44388656  0.43474232 -0.95571883\n",
      "   3.91947644  0.77800775  1.22232495  0.28489301 -0.38350552 -0.46821429\n",
      "  -0.68206592 -0.15713699  0.73988974 -0.4166962  -0.38729833  0.21795977\n",
      "   0.21940268 -1.24721913  1.36930639 -0.06663397 -0.2947082  -0.44127078\n",
      "   0.09309742 -0.50481036 -0.3699982 ]\n",
      " [-1.90683996 -2.06226416  0.18424271 -0.35803201 -0.33959002 -0.64388036\n",
      "  -0.31926652 -2.1541988  -1.75835243  1.53807448 -1.47756814  2.83046627\n",
      "  -0.8139681   1.98843944 -1.20656127  1.08936291  2.5819889   0.20088361\n",
      "   0.20232152 -1.24721913 -0.73029674 -0.83310549 -1.45647426 -0.84981926\n",
      "  -0.78985649 -1.46819982 -0.62337105]\n",
      " [ 1.58501672  0.75990781 -0.24000736 -0.27289046  1.0299577   1.38843241\n",
      "  -0.36117702 -0.13251973 -0.29700865 -1.06494341  0.97101477 -1.05619663\n",
      "   1.37021301 -1.30889285  0.96171209  0.26787613 -0.38729833  0.21795977\n",
      "   0.21940268  0.80178373 -0.73029674  1.35730647  1.28029827  1.60445397\n",
      "   1.42881665  1.40618888  1.555691  ]]\n"
     ]
    }
   ],
   "source": [
    "X_test = data1_test.drop('growth',axis = 1)\n",
    "y_test = data1_test['growth']\n",
    "\n",
    "scaler = StandardScaler()\n",
    "X_test = scaler.fit_transform(X_test)\n",
    "\n",
    "print(X_test)"
   ]
  },
  {
   "cell_type": "code",
   "execution_count": 393,
   "id": "f34391b5",
   "metadata": {},
   "outputs": [
    {
     "name": "stderr",
     "output_type": "stream",
     "text": [
      "C:\\Users\\buca4591\\AppData\\Local\\anaconda3\\Lib\\site-packages\\sklearn\\base.py:464: UserWarning: X does not have valid feature names, but LinearRegression was fitted with feature names\n",
      "  warnings.warn(\n",
      "C:\\Users\\buca4591\\AppData\\Local\\anaconda3\\Lib\\site-packages\\sklearn\\base.py:464: UserWarning: X does not have valid feature names, but Lasso was fitted with feature names\n",
      "  warnings.warn(\n",
      "C:\\Users\\buca4591\\AppData\\Local\\anaconda3\\Lib\\site-packages\\sklearn\\base.py:464: UserWarning: X does not have valid feature names, but Ridge was fitted with feature names\n",
      "  warnings.warn(\n",
      "C:\\Users\\buca4591\\AppData\\Local\\anaconda3\\Lib\\site-packages\\sklearn\\base.py:464: UserWarning: X does not have valid feature names, but PCA was fitted with feature names\n",
      "  warnings.warn(\n"
     ]
    }
   ],
   "source": [
    "# predictions for all models \n",
    "\n",
    "#predictions1 = mean.predict(X_test)\n",
    "\n",
    "predictions2 = model.predict(X_test)\n",
    "\n",
    "predictions3 = best_lasso.predict(X_test)\n",
    "\n",
    "predictions4 = best_ridge.predict(X_test)\n",
    "\n",
    "X = pca.fit_transform(X)\n",
    "X_test = pca.transform(X_test)[:,0:5]\n",
    "lm = LinearRegression()\n",
    "pcr = lm.fit(X[:,0:5], y)\n",
    "predictions5 = pcr.predict(X_test)\n",
    "\n"
   ]
  },
  {
   "cell_type": "code",
   "execution_count": 394,
   "id": "d900739b",
   "metadata": {
    "scrolled": true
   },
   "outputs": [
    {
     "data": {
      "text/plain": [
       "0.031796590105932054"
      ]
     },
     "execution_count": 394,
     "metadata": {},
     "output_type": "execute_result"
    }
   ],
   "source": [
    "# RMSE for all models \n",
    "rmse"
   ]
  },
  {
   "cell_type": "code",
   "execution_count": null,
   "id": "118e1b26",
   "metadata": {},
   "outputs": [],
   "source": []
  },
  {
   "cell_type": "code",
   "execution_count": 395,
   "id": "26a18de1",
   "metadata": {},
   "outputs": [
    {
     "data": {
      "text/plain": [
       "0.11195836422569218"
      ]
     },
     "execution_count": 395,
     "metadata": {},
     "output_type": "execute_result"
    }
   ],
   "source": [
    "np.sqrt(metrics.mean_squared_error(y_test, predictions2))"
   ]
  },
  {
   "cell_type": "code",
   "execution_count": 396,
   "id": "e464a44c",
   "metadata": {},
   "outputs": [
    {
     "data": {
      "text/plain": [
       "0.030334819859361276"
      ]
     },
     "execution_count": 396,
     "metadata": {},
     "output_type": "execute_result"
    }
   ],
   "source": [
    "np.sqrt(metrics.mean_squared_error(y_test, predictions3))\n"
   ]
  },
  {
   "cell_type": "code",
   "execution_count": 397,
   "id": "c67b624f",
   "metadata": {},
   "outputs": [
    {
     "data": {
      "text/plain": [
       "0.028998880029426875"
      ]
     },
     "execution_count": 397,
     "metadata": {},
     "output_type": "execute_result"
    }
   ],
   "source": [
    "np.sqrt(metrics.mean_squared_error(y_test, predictions4))\n"
   ]
  },
  {
   "cell_type": "code",
   "execution_count": 398,
   "id": "dbc3d692",
   "metadata": {},
   "outputs": [
    {
     "data": {
      "text/plain": [
       "0.02805034033881174"
      ]
     },
     "execution_count": 398,
     "metadata": {},
     "output_type": "execute_result"
    }
   ],
   "source": [
    "np.sqrt(metrics.mean_squared_error(y_test, predictions5))"
   ]
  },
  {
   "cell_type": "code",
   "execution_count": null,
   "id": "09794c6d",
   "metadata": {},
   "outputs": [],
   "source": []
  },
  {
   "cell_type": "code",
   "execution_count": null,
   "id": "5328a6ce",
   "metadata": {},
   "outputs": [],
   "source": []
  }
 ],
 "metadata": {
  "kernelspec": {
   "display_name": "Python 3 (ipykernel)",
   "language": "python",
   "name": "python3"
  },
  "language_info": {
   "codemirror_mode": {
    "name": "ipython",
    "version": 3
   },
   "file_extension": ".py",
   "mimetype": "text/x-python",
   "name": "python",
   "nbconvert_exporter": "python",
   "pygments_lexer": "ipython3",
   "version": "3.11.4"
  }
 },
 "nbformat": 4,
 "nbformat_minor": 5
}
